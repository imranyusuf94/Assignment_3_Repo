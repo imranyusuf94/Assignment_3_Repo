{
 "cells": [
  {
   "cell_type": "markdown",
   "id": "technical-blackberry",
   "metadata": {},
   "source": [
    "**DOCUMENT ONE**"
   ]
  },
  {
   "cell_type": "markdown",
   "id": "concerned-karaoke",
   "metadata": {},
   "source": [
    "# Background of the Problem"
   ]
  },
  {
   "cell_type": "markdown",
   "id": "minimal-market",
   "metadata": {},
   "source": [
    "According to ABS (2021), housing continues to be Australia's largest asset class, worth approximately $7.7 trillion, and yet, the study of real estate sentiment in Australia has been profoundly under-researched to date (Nanda & Heinig, 2018). Conversely, current literature reviews have established a strong connection between investor sentiment and stock returns in general, which in turn would suggest that there is also some degree of correlation between real estate sentiment and the strength of the property market as well (Bisen, 2020; Bharathi & Geetha, 2017; Corredor, Ferrer & Santamaria, 2011). In view of these findings, it was clear that there existed an opportunity to exploit this underutilisation in real estate sentiment within Australia to gain a competitive edge in estimating where and when to invest in housing in Australia.\n",
    "\n",
    "As such, this Project aims to autonomously estimate the relative strengths of the property market across all states and territories in Australia, as a function of time, by relying on trusted Australian news sources."
   ]
  },
  {
   "cell_type": "markdown",
   "id": "damaged-december",
   "metadata": {},
   "source": [
    "# The Proposed Solution"
   ]
  },
  {
   "cell_type": "markdown",
   "id": "embedded-shape",
   "metadata": {},
   "source": [
    "The first component in the data ingestion architecture involved identifying the news article addresses of interest from all pages contained within the trusted news source websites. The decision was made to include news articles from all available pages on the trusted news source websites in order to afford more power to the models that formed part of the solution.\n",
    "\n",
    "These website addresses were collected using the second component of the solution, which consisted of a web crawler powered by the *Selenium* package. Once the web crawler had extracted all of the news article website addresses from the trusted news sources, the web crawler would then also extract the title, publication date, body content, and any other relevant data, for each of the website addresses collected previously. \n",
    "\n",
    "The third component involved the natural language processing (NLP) pipeline. The first NLP task in this pipeline involved the implementation of Named Entity Recognition (NER) to identify all locations (LOCs) and geopolitical entities (GPEs) from the body text of each news article. This LOC and GPE data would then be rolled up to the state and territory level using the *Nominatom* geocoding software in order to achieve consistent data granularity for comparison purposes. The second NLP task involved testing a variety of traditional machine learning methods to perform sentinment analysis on sentences of the news article body text containing the identified LOCs and GPEs. Subsequent to the validation process, the best sentiment predictor would be selected for application.\n",
    "\n",
    "The output from the NLP pipeline served as scoring weights to the frequency of published news articles per state or territory. For example, if all news article mentions of Queensland for a given week were negative and all mentions of New South Wales were positive, this would leave a -1 score for Queensland and a +1 score for New South Wales for that week. The relative scoring across all states and territories over time provided an estimate of the relative strength of the property market across all states and territories in Australia. These scores were then plotted as a function of time, however, an online dashboard of the results was not produced and instead kept as a future recommendation.\n",
    "\n",
    "Publications and communications of project developments for this Project were executed using Github. "
   ]
  },
  {
   "cell_type": "markdown",
   "id": "helpful-diana",
   "metadata": {},
   "source": [
    "# References"
   ]
  },
  {
   "cell_type": "markdown",
   "id": "statutory-sight",
   "metadata": {},
   "source": [
    "(Nanda & Heinig, 2018) - http://centaur.reading.ac.uk/72893/1/170930_Revised_Manuscript.pdf\n",
    "\n",
    "(ABS, 2021) - https://www.abs.gov.au/statistics/economy/price-indexes-and-inflation/residential-property-price-indexes-eight-capital-cities/latest-release#:~:text=last%20twelve%20months.-,Total%20value%20of%20the%20dwelling%20stock,rose%20by%2044%2C100%20to%2010%2C602%2C700.\n",
    "\n",
    "(Corredor, Ferrer & Santamaria, 2011) - https://www.researchgate.net/publication/228318309_Investor_Sentiment_Effect_in_Stock_Markets_Stock_Characteristics_or_Country-Specific_Factors\n",
    "\n",
    "(Bisen, 2020) - https://medium.com/vsinghbisen/how-sentiment-analysis-in-stock-market-used-for-right-prediction-5c1bfe64c233\n",
    "\n",
    "(Bharathi & Geetha, 2017) - https://www.researchgate.net/publication/317214679_Sentiment_Analysis_for_Effective_Stock_Market_Prediction"
   ]
  },
  {
   "cell_type": "markdown",
   "id": "tender-reunion",
   "metadata": {},
   "source": [
    "**DOCUMENT TWO**"
   ]
  },
  {
   "cell_type": "markdown",
   "id": "greenhouse-champion",
   "metadata": {},
   "source": [
    "# Website Selection"
   ]
  },
  {
   "cell_type": "markdown",
   "id": "political-triple",
   "metadata": {},
   "source": [
    "## Chosen Websites"
   ]
  },
  {
   "cell_type": "markdown",
   "id": "united-story",
   "metadata": {},
   "source": [
    "Only trusted Australian news sources were considered, which meant first examining their machinery of care, transparency, expertise and agenda (Caulfield, 2017). Furthermore, only news sources which provided publicly available data and consent for web crawling their data were pursued in order to remain ethical. The combination of these two factors significantly limited the pool of Australian news source candidates to consume to just one: https://www.onthehouse.com.au."
   ]
  },
  {
   "cell_type": "markdown",
   "id": "restricted-drinking",
   "metadata": {},
   "source": [
    "## Ethics of Data Extraction"
   ]
  },
  {
   "cell_type": "markdown",
   "id": "unnecessary-vessel",
   "metadata": {},
   "source": [
    "Consent for web crawling the data on this Australian news source was confirmed by consulting with the website's copyright protection notice and the robots.txt file found at the root of the website. While the site did not openly acknowledge previously allowed web scraping, the only disallow directive present in the robots.txt file was for any data under https://www.onthehouse.com.au/real-estate-agents, however, all relevant data for this Project was contained under https://www.onthehouse.com.au/news instead. Furthermore, all of the relevant data was not behind any kind of walled garden, pay or otherwise, which specified that it was publicly available data."
   ]
  },
  {
   "cell_type": "markdown",
   "id": "central-preservation",
   "metadata": {},
   "source": [
    "# Data Extracted"
   ]
  },
  {
   "cell_type": "markdown",
   "id": "soviet-techno",
   "metadata": {},
   "source": [
    "## Base Data"
   ]
  },
  {
   "cell_type": "markdown",
   "id": "answering-swiss",
   "metadata": {},
   "source": [
    "The base data required for predicting the relative strengths of the property market across all states and territories in Australia, as a function of time, was deemed to comprise of the publication date and entire body text of the news article. Returning the entire body text allowed for the identification of all GPE and LOC data present as an input to the sentiment analysis and returning the publication date allowed for tracking of these sentiments over time.\n",
    "\n",
    "At the time of this study, the chosen website contained 136 pages of property news articles with unique website addresses, and the data from all of these website addresses were consumed in order to afford more power to the NLP models subsequently developed."
   ]
  },
  {
   "cell_type": "markdown",
   "id": "devoted-institution",
   "metadata": {},
   "source": [
    "## Data Supplementation"
   ]
  },
  {
   "cell_type": "markdown",
   "id": "together-custom",
   "metadata": {},
   "source": [
    "The base data was supplemented by also extracting the title of the news article and  the tags available on most articles, which listed the states and territories discussed in the article. The title was acquired in order to obtain as much context about the news article as possible for further analysis. Moreover, the tags were acquired to act as the true labels for the\n",
    "\n",
    "talk about output from Nominatom as well"
   ]
  },
  {
   "cell_type": "markdown",
   "id": "exact-knife",
   "metadata": {},
   "source": [
    "a. Websites to be consumed\n",
    "b. A rationale for extracting the web content\n",
    "c. Content coverage of the data extracted\n",
    "d. Complexity of the content layout\n",
    "e. Website/data copyright considerations\n",
    "f. Metadata supplementation and rational for the supplementation\n",
    "g. Content extractor to export the important aspects of the data and/or metadata\n",
    "h. Relevant python coding\n",
    "i. Demonstration of the application of the WebCrawler (i.e. screen shots)\n",
    "j. Methodology of processing, cleaning, and storing harvested data for NLP\n",
    "tasking\n",
    "k. Summary and visualisation of the harvested data. Preliminary EDA is\n",
    "acceptable in this section as well."
   ]
  },
  {
   "cell_type": "markdown",
   "id": "employed-audit",
   "metadata": {},
   "source": [
    "# Data Extraction Methodology"
   ]
  },
  {
   "cell_type": "markdown",
   "id": "fitted-schema",
   "metadata": {},
   "source": [
    "# Relevant Code"
   ]
  },
  {
   "cell_type": "markdown",
   "id": "cordless-belle",
   "metadata": {},
   "source": [
    "# Demonstration of Web Crawler Application"
   ]
  },
  {
   "cell_type": "markdown",
   "id": "introductory-scene",
   "metadata": {},
   "source": [
    "# Data Transformation Methodology"
   ]
  },
  {
   "cell_type": "markdown",
   "id": "cutting-minimum",
   "metadata": {},
   "source": [
    "# Exploratory Data Analysis"
   ]
  },
  {
   "cell_type": "markdown",
   "id": "protecting-citizen",
   "metadata": {},
   "source": [
    "# References"
   ]
  },
  {
   "cell_type": "markdown",
   "id": "international-bacteria",
   "metadata": {},
   "source": [
    "(Caulfield, 2017) - https://webliteracy.pressbooks.com/chapter/what-makes-a-trustworthy-news-source/"
   ]
  },
  {
   "cell_type": "markdown",
   "id": "harmful-parcel",
   "metadata": {},
   "source": [
    "(onthehouse, 2021) -  https://www.onthehouse.com.au"
   ]
  },
  {
   "cell_type": "markdown",
   "id": "demographic-ground",
   "metadata": {},
   "source": [
    "# Setup"
   ]
  },
  {
   "cell_type": "markdown",
   "id": "spoken-nirvana",
   "metadata": {},
   "source": [
    "## Import Libraries"
   ]
  },
  {
   "cell_type": "code",
   "execution_count": 1,
   "id": "spare-arrangement",
   "metadata": {},
   "outputs": [],
   "source": [
    "import warnings # suppress warnings\n",
    "warnings.filterwarnings('ignore') # suppress warnings\n",
    "from selenium import webdriver # for opening webdriver\n",
    "from selenium.webdriver.common.keys import Keys # for displaying useful keys\n",
    "import time # for implementing time delays\n",
    "import pandas as pd # for creating dataframes\n",
    "pd.options.mode.chained_assignment = None  # to suppress SettingWithCopyWarning\n",
    "from selenium.common.exceptions import NoSuchElementException # for raising exceptions\n",
    "import re # use regex to perform acquisition of selective sentence\n",
    "import ast # for converting string list representation to list\n",
    "from ast import literal_eval # for converting string list representation to list\n",
    "import numpy as np # for working with arrays\n",
    "from datetime import datetime # convert to datetime\n",
    "import nltk # import nltk for sentiment analysis\n",
    "#nltk.download('wordnet')\n",
    "#nltk.download('vader_lexicon')\n",
    "from nltk.stem import WordNetLemmatizer # for lemmatisation\n",
    "#from geopy.geocoders import Nominatim # for open-source geoencoding\n",
    "import spacy # for NER\n",
    "from spacy import displacy # for displaying NER results\n",
    "from nltk.sentiment.vader import SentimentIntensityAnalyzer # import nltk for sentiment analysis\n",
    "#nltk.download('vader_lexicon')\n",
    "from nltk.tokenize import word_tokenize # tokenize words for removal of stopwords\n",
    "from nltk.tokenize.treebank import TreebankWordDetokenizer # detokenize text\n",
    "import matplotlib.pyplot as plt # for plotting\n",
    "from matplotlib.pyplot import figure # for plotting\n",
    "import pickle # for saving and loading best model from hyperparameter tuning\n",
    "import seaborn as sns # for plotting confusion matrix\n",
    "from sklearn.metrics import confusion_matrix, classification_report, accuracy_score, f1_score, mean_squared_error # for analysing classification results\n",
    "from sklearn.datasets import make_classification # for making classifications\n",
    "from sklearn.model_selection import train_test_split, GridSearchCV, StratifiedKFold, cross_val_score # for model assessment\n",
    "from sklearn.feature_extraction.text import TfidfVectorizer # for creating TF-IDF matrix\n",
    "from sklearn.linear_model import LogisticRegression # for logistic regression modelling\n",
    "from sklearn.multiclass import OneVsRestClassifier #for handling multiclass labels\n",
    "from sklearn.svm import SVC # for support vector machine modelling\n",
    "from sklearn.naive_bayes import MultinomialNB # for multinomial naive bayes modelling\n",
    "from sklearn import metrics # to check for overfitting\n",
    "from tabulate import tabulate # for printing results in a tabular format"
   ]
  },
  {
   "cell_type": "markdown",
   "id": "floral-engineer",
   "metadata": {},
   "source": [
    "## Configure Pandas"
   ]
  },
  {
   "cell_type": "code",
   "execution_count": 2,
   "id": "allied-ghost",
   "metadata": {},
   "outputs": [],
   "source": [
    "# configure pandas\n",
    "pd.set_option('display.max_columns', None)\n",
    "pd.set_option('display.max_rows', None)"
   ]
  },
  {
   "cell_type": "markdown",
   "id": "authentic-slovakia",
   "metadata": {},
   "source": [
    "## Load Models"
   ]
  },
  {
   "cell_type": "code",
   "execution_count": 3,
   "id": "universal-hazard",
   "metadata": {},
   "outputs": [],
   "source": [
    "nlp = spacy.load('en_core_web_sm') # for trained NER model"
   ]
  },
  {
   "cell_type": "markdown",
   "id": "consistent-ireland",
   "metadata": {},
   "source": [
    "# Acquire Property News Data"
   ]
  },
  {
   "cell_type": "markdown",
   "id": "protected-remove",
   "metadata": {},
   "source": [
    "## Obtain List of Relevant URLs via Web Crawling"
   ]
  },
  {
   "cell_type": "code",
   "execution_count": null,
   "id": "healthy-zimbabwe",
   "metadata": {},
   "outputs": [],
   "source": [
    "class Property_News_Web_Crawler:\n",
    "    def __init__(self):\n",
    "        # open driver\n",
    "        self.driver = webdriver.Chrome(r\"C:\\Users\\Imran\\Documents\\chromedriver\\chromedriver.exe\")\n",
    "        # go to website\n",
    "        self.driver.get('https://www.onthehouse.com.au/news')\n",
    "        # take a brief pause so that we remain a nice little web crawler for the website\n",
    "        time.sleep(5)\n",
    "        self.file_path = r'C:/Users/Imran/Desktop/Assignment_3_Repo/'\n",
    "        \n",
    "    def quite_driver(self):\n",
    "         self.driver.quit()\n",
    "    \n",
    "    def get_URLs(self):\n",
    "        # extract page numbering of website\n",
    "        element = driver.find_element_by_xpath('//*[@id=\"block-views-blockarticles-property-news-block-1\"]/div/div/nav/li')\n",
    "        page_data = element.get_attribute('innerHTML').replace(\"\\n\", \"\")\n",
    "\n",
    "        # locate max page limit from page numbering and remove trailing and leading white spaces from it\n",
    "        max_page_limit = int(page_data[page_data.find(\"of\")+2:].split()[0].strip())\n",
    "\n",
    "        # empty list for urls\n",
    "        url_list = []\n",
    "\n",
    "        # seed page number\n",
    "        i = 1\n",
    "        # define last page for web crawling urls\n",
    "        last_page = max_page_limit\n",
    "        # loop through pages\n",
    "        while i < last_page:\n",
    "            # seed news article number on page\n",
    "            j = 1\n",
    "            while j <= 5:\n",
    "                print(\"i:\", i,\", j:\", j)\n",
    "                # extract url for news article\n",
    "                URL = driver.find_element_by_xpath('//*[@id=\"block-views-blockarticles-property-news-block-1\"]/div/div/div['+\\\n",
    "                                                   str(j)+']/a').get_attribute(\"href\")\n",
    "                # take a brief pause so that we remain a nice little web crawler for the website\n",
    "                time.sleep(2)\n",
    "                # append extracted url to list\n",
    "                url_list.append(URL)\n",
    "                # cycle to next news article on the page\n",
    "                j = j + 1\n",
    "            # take a brief pause so that we remain a nice little web crawler for the website\n",
    "            time.sleep(20)\n",
    "            i = i + 1\n",
    "            # define button for going to next page once all news article urls have been scraped on this page\n",
    "            next_page_button = driver.find_element_by_xpath(\"//a[@rel='next']\")\n",
    "\n",
    "            # click button to next page\n",
    "            next_page_button.click()\n",
    "\n",
    "        # convert web crawled url list to dataframe\n",
    "        url_df = pd.DataFrame(list(zip(url_list)), columns = ['URL'])\n",
    "\n",
    "        # save urls to csv (serves as a checkpoint)\n",
    "        url_df.to_csv(self.file_path + 'url_df_new.csv', index=False)\n",
    "                                                   \n",
    "        # read in csv saved previously\n",
    "        return url_df #make series, pd.Series(data) - make it a list\n",
    "    \n",
    "    def run(self):\n",
    "        data = pd.DataFrame()\n",
    "        for url in self.get_URLs():\n",
    "            data = data.append(self.get_Content(url), ignore_index = True)\n",
    "        return data\n",
    "        \n",
    "    # define function for web crawling property news URL\n",
    "    def get_Content(self, url):\n",
    "        # get news article title\n",
    "        try:\n",
    "            title = driver.find_element_by_xpath('//*[@id=\"block-corelogic-content\"]/article/div[1]/div/h1/span').text\n",
    "        # if title is missing, put N/A\n",
    "        except NoSuchElementException:\n",
    "            title = 'N/A'\n",
    "        # take a brief pause so that we remain a nice little web crawler for the website\n",
    "        time.sleep(5)\n",
    "\n",
    "        # get date of news article\n",
    "        try:\n",
    "            date = driver.find_element_by_xpath(\"//p[@class='paragraph-active news-date']\").text\n",
    "        # if date is missing, put N/A\n",
    "        except NoSuchElementException:\n",
    "            date = 'N/A'\n",
    "        # take a brief pause so that we remain a nice little web crawler for the website\n",
    "        time.sleep(5)\n",
    "\n",
    "        # get body text of news article\n",
    "        try:\n",
    "            body = driver.find_element_by_xpath(\"//div[@property='schema:text']\").get_attribute('innerText')\n",
    "        # if body is missing, put N/A\n",
    "        except NoSuchElementException:\n",
    "            body = 'N/A'\n",
    "\n",
    "        # take a brief pause so that we remain a nice little web crawler for the website\n",
    "        time.sleep(5)\n",
    "\n",
    "        # get labelled location tags for article\n",
    "        try:\n",
    "            tags = driver.find_element_by_xpath(\"//div[@class='field_article_state']\").text\n",
    "        # if tag is missing, put N/A\n",
    "        except NoSuchElementException:\n",
    "            tags = 'N/A'\n",
    "\n",
    "        # return values\n",
    "        return title, date, body, tags\n",
    "\n",
    "    # apply webscraping function to data\n",
    "    url_df['Title'], url_df['Date'], url_df['Body'], url_df['Tags'] = zip(*url_df['URL'].map(get_Content))\n",
    "\n",
    "    # save urls to csv (serves as a checkpoint)\n",
    "    url_df.to_csv(r'C:/Users/Imran/Desktop/Assignment_3_Repo/web_crawled_data_new.csv', index = False)"
   ]
  },
  {
   "cell_type": "code",
   "execution_count": 4,
   "id": "suited-contents",
   "metadata": {},
   "outputs": [],
   "source": [
    "A = Web_Crawler()\n",
    "urls = A.get_URLs()\n",
    "data = A.get_Content(urls)\n",
    "A.quite_driver()"
   ]
  },
  {
   "cell_type": "markdown",
   "id": "owned-quebec",
   "metadata": {},
   "source": [
    "## Web Crawl Relevant Content from URL List"
   ]
  },
  {
   "cell_type": "code",
   "execution_count": 5,
   "id": "desperate-check",
   "metadata": {},
   "outputs": [],
   "source": []
  },
  {
   "cell_type": "markdown",
   "id": "piano-symphony",
   "metadata": {},
   "source": [
    "# Preliminary Data Preprocessing"
   ]
  },
  {
   "cell_type": "code",
   "execution_count": 6,
   "id": "generic-globe",
   "metadata": {},
   "outputs": [],
   "source": [
    "# read in csv saved previously\n",
    "data = pd.read_csv(r'C:/Users/Imran/Desktop/Assignment_3_Repo/web_crawled_data_09042020.csv')\n",
    "\n",
    "# translate missing values to nan\n",
    "data = data.replace(('*/*', '', 'nan', '0', 'N/A'), np.nan)\n",
    "\n",
    "# transform date\n",
    "def convert_to_date(x):\n",
    "    date_time_obj = datetime.strptime(x, '%d-%b-%y')\n",
    "    return date_time_obj\n",
    "data['Date_Transformed'] = data['Date'].apply(convert_to_date)\n",
    "\n",
    "# transform body tags\n",
    "# replace unwanted strings\n",
    "data['Body_Transformed'] = data['Body'].str.replace(r'\\n',' ', regex=True)\n",
    "data['Body_Transformed'] = data['Body_Transformed'].str.replace(r'\\xa0',' ', regex=True)\n",
    "data['Body_Transformed'] = data['Body_Transformed'].str.replace(r'â€™','', regex=True)\n",
    "data['Body_Transformed'] = data['Body_Transformed'].str.replace(r'â€˜','', regex=True)\n",
    "data['Body_Transformed'] = data['Body_Transformed'].str.replace(r'â€œ','', regex=True)\n",
    "data['Body_Transformed'] = data['Body_Transformed'].str.replace(r'â€“','', regex=True)\n",
    "\n",
    "# remove excess white space\n",
    "data['Body_Transformed'] = data['Body_Transformed'].astype(str).apply(lambda x: ' '.join(x.split()))\n",
    "\n",
    "# transform Tags\n",
    "data['Tags_Transformed'] = data['Tags'].str.replace(r' ',\"', '\", regex=True)\n",
    "data['Tags_Transformed'] = \"'\" + data['Tags_Transformed'].astype(str) + \"'\"\n",
    "def literal_return(val):\n",
    "    try:\n",
    "        return ast.literal_eval(val)\n",
    "    except (ValueError, SyntaxError) as e:\n",
    "        return val\n",
    "data['Tags_Transformed'] = data['Tags_Transformed'].apply(literal_return)\n",
    "\n",
    "# select relevant columns for further processing\n",
    "data2 = data[['Title', 'Date_Transformed', 'Body_Transformed', 'Tags_Transformed']]\n",
    "\n",
    "# duplicate article for each place tag listed\n",
    "data_overview = data\n",
    "data_overview = data_overview.explode('Tags_Transformed').reset_index(drop = True)"
   ]
  },
  {
   "cell_type": "markdown",
   "id": "sharing-massage",
   "metadata": {},
   "source": [
    "# Exploratory Data Analysis"
   ]
  },
  {
   "cell_type": "code",
   "execution_count": 7,
   "id": "prospective-rebate",
   "metadata": {},
   "outputs": [
    {
     "data": {
      "text/plain": [
       "(1291, 8)"
      ]
     },
     "execution_count": 7,
     "metadata": {},
     "output_type": "execute_result"
    }
   ],
   "source": [
    "# check shape of data webcrawled\n",
    "nrow, ncol = data_overview.shape\n",
    "nrow, ncol"
   ]
  },
  {
   "cell_type": "code",
   "execution_count": 8,
   "id": "joined-arizona",
   "metadata": {},
   "outputs": [
    {
     "data": {
      "text/html": [
       "<div>\n",
       "<style scoped>\n",
       "    .dataframe tbody tr th:only-of-type {\n",
       "        vertical-align: middle;\n",
       "    }\n",
       "\n",
       "    .dataframe tbody tr th {\n",
       "        vertical-align: top;\n",
       "    }\n",
       "\n",
       "    .dataframe thead th {\n",
       "        text-align: right;\n",
       "    }\n",
       "</style>\n",
       "<table border=\"1\" class=\"dataframe\">\n",
       "  <thead>\n",
       "    <tr style=\"text-align: right;\">\n",
       "      <th></th>\n",
       "      <th>URL</th>\n",
       "      <th>Title</th>\n",
       "      <th>Date</th>\n",
       "      <th>Body</th>\n",
       "      <th>Tags</th>\n",
       "      <th>Date_Transformed</th>\n",
       "      <th>Body_Transformed</th>\n",
       "      <th>Tags_Transformed</th>\n",
       "    </tr>\n",
       "  </thead>\n",
       "  <tbody>\n",
       "    <tr>\n",
       "      <th>0</th>\n",
       "      <td>https://www.onthehouse.com.au/news/melbourne-p...</td>\n",
       "      <td>Melbourne property values regain COVID loss an...</td>\n",
       "      <td>29-Mar-21</td>\n",
       "      <td>Melbourne dwelling values have surpassed their...</td>\n",
       "      <td>National VIC</td>\n",
       "      <td>2021-03-29</td>\n",
       "      <td>Melbourne dwelling values have surpassed their...</td>\n",
       "      <td>National</td>\n",
       "    </tr>\n",
       "    <tr>\n",
       "      <th>1</th>\n",
       "      <td>https://www.onthehouse.com.au/news/melbourne-p...</td>\n",
       "      <td>Melbourne property values regain COVID loss an...</td>\n",
       "      <td>29-Mar-21</td>\n",
       "      <td>Melbourne dwelling values have surpassed their...</td>\n",
       "      <td>National VIC</td>\n",
       "      <td>2021-03-29</td>\n",
       "      <td>Melbourne dwelling values have surpassed their...</td>\n",
       "      <td>VIC</td>\n",
       "    </tr>\n",
       "    <tr>\n",
       "      <th>2</th>\n",
       "      <td>https://www.onthehouse.com.au/news/profitabili...</td>\n",
       "      <td>Profitability in Australian dwellings rose ove...</td>\n",
       "      <td>25-Mar-21</td>\n",
       "      <td>This edition of the Pain and Gain report analy...</td>\n",
       "      <td>National NSW VIC QLD NT TAS ACT WA SA</td>\n",
       "      <td>2021-03-25</td>\n",
       "      <td>This edition of the Pain and Gain report analy...</td>\n",
       "      <td>National</td>\n",
       "    </tr>\n",
       "    <tr>\n",
       "      <th>3</th>\n",
       "      <td>https://www.onthehouse.com.au/news/profitabili...</td>\n",
       "      <td>Profitability in Australian dwellings rose ove...</td>\n",
       "      <td>25-Mar-21</td>\n",
       "      <td>This edition of the Pain and Gain report analy...</td>\n",
       "      <td>National NSW VIC QLD NT TAS ACT WA SA</td>\n",
       "      <td>2021-03-25</td>\n",
       "      <td>This edition of the Pain and Gain report analy...</td>\n",
       "      <td>NSW</td>\n",
       "    </tr>\n",
       "    <tr>\n",
       "      <th>4</th>\n",
       "      <td>https://www.onthehouse.com.au/news/profitabili...</td>\n",
       "      <td>Profitability in Australian dwellings rose ove...</td>\n",
       "      <td>25-Mar-21</td>\n",
       "      <td>This edition of the Pain and Gain report analy...</td>\n",
       "      <td>National NSW VIC QLD NT TAS ACT WA SA</td>\n",
       "      <td>2021-03-25</td>\n",
       "      <td>This edition of the Pain and Gain report analy...</td>\n",
       "      <td>VIC</td>\n",
       "    </tr>\n",
       "  </tbody>\n",
       "</table>\n",
       "</div>"
      ],
      "text/plain": [
       "                                                 URL  \\\n",
       "0  https://www.onthehouse.com.au/news/melbourne-p...   \n",
       "1  https://www.onthehouse.com.au/news/melbourne-p...   \n",
       "2  https://www.onthehouse.com.au/news/profitabili...   \n",
       "3  https://www.onthehouse.com.au/news/profitabili...   \n",
       "4  https://www.onthehouse.com.au/news/profitabili...   \n",
       "\n",
       "                                               Title       Date  \\\n",
       "0  Melbourne property values regain COVID loss an...  29-Mar-21   \n",
       "1  Melbourne property values regain COVID loss an...  29-Mar-21   \n",
       "2  Profitability in Australian dwellings rose ove...  25-Mar-21   \n",
       "3  Profitability in Australian dwellings rose ove...  25-Mar-21   \n",
       "4  Profitability in Australian dwellings rose ove...  25-Mar-21   \n",
       "\n",
       "                                                Body  \\\n",
       "0  Melbourne dwelling values have surpassed their...   \n",
       "1  Melbourne dwelling values have surpassed their...   \n",
       "2  This edition of the Pain and Gain report analy...   \n",
       "3  This edition of the Pain and Gain report analy...   \n",
       "4  This edition of the Pain and Gain report analy...   \n",
       "\n",
       "                                    Tags Date_Transformed  \\\n",
       "0                           National VIC       2021-03-29   \n",
       "1                           National VIC       2021-03-29   \n",
       "2  National NSW VIC QLD NT TAS ACT WA SA       2021-03-25   \n",
       "3  National NSW VIC QLD NT TAS ACT WA SA       2021-03-25   \n",
       "4  National NSW VIC QLD NT TAS ACT WA SA       2021-03-25   \n",
       "\n",
       "                                    Body_Transformed Tags_Transformed  \n",
       "0  Melbourne dwelling values have surpassed their...         National  \n",
       "1  Melbourne dwelling values have surpassed their...              VIC  \n",
       "2  This edition of the Pain and Gain report analy...         National  \n",
       "3  This edition of the Pain and Gain report analy...              NSW  \n",
       "4  This edition of the Pain and Gain report analy...              VIC  "
      ]
     },
     "execution_count": 8,
     "metadata": {},
     "output_type": "execute_result"
    }
   ],
   "source": [
    "# check first couple of rows in dataframe\n",
    "data_overview.head()"
   ]
  },
  {
   "cell_type": "code",
   "execution_count": 9,
   "id": "healthy-whale",
   "metadata": {},
   "outputs": [
    {
     "data": {
      "text/plain": [
       "Timestamp('2021-03-29 00:00:00')"
      ]
     },
     "execution_count": 9,
     "metadata": {},
     "output_type": "execute_result"
    }
   ],
   "source": [
    "# check \n",
    "min(data_overview['Date_Transformed'])\n",
    "max(data_overview['Date_Transformed'])"
   ]
  },
  {
   "cell_type": "code",
   "execution_count": 10,
   "id": "welsh-floor",
   "metadata": {},
   "outputs": [
    {
     "name": "stdout",
     "output_type": "stream",
     "text": [
      "Nulls in 'Date' 0\n",
      "Nulls in 'Body' 0\n",
      "Nulls in 'Tags' 545\n"
     ]
    }
   ],
   "source": [
    "# check for null values\n",
    "print(\"Nulls in 'Date'\", data_overview['Date'].isnull().sum())\n",
    "print(\"Nulls in 'Body'\", data_overview['Body'].isnull().sum())\n",
    "print(\"Nulls in 'Tags'\", data_overview['Tags'].isnull().sum())"
   ]
  },
  {
   "cell_type": "code",
   "execution_count": 11,
   "id": "incorrect-authority",
   "metadata": {},
   "outputs": [
    {
     "data": {
      "image/png": "[encoded data removed]",
      "text/plain": [
       "<Figure size 1000x400 with 1 Axes>"
      ]
     },
     "metadata": {
      "needs_background": "light"
     },
     "output_type": "display_data"
    }
   ],
   "source": [
    "# specify fig size and dpi\n",
    "figure(figsize=(10, 4), dpi=100)\n",
    "data_overview['Tags_Transformed'].value_counts().plot(kind='barh')\n",
    "plt.title('Frequency of News Articles by State & Territory', fontsize = 12)\n",
    "plt.xlabel('Frequency', fontsize = 12)\n",
    "plt.ylabel('State & Territory', fontsize = 12)\n",
    "plt.show()"
   ]
  },
  {
   "cell_type": "markdown",
   "id": "selective-horror",
   "metadata": {},
   "source": [
    "**DOCUMENT THREE**"
   ]
  },
  {
   "cell_type": "markdown",
   "id": "architectural-mystery",
   "metadata": {},
   "source": [
    "It was deemed highly likely that multiple states & territories could be mentioned in any given news article, which was regarded as significant since there could be differing sentiments per article depending on the location being discussed. Hence, it was important to be able to separately identify all of the place entities within the corpus. This assumed that only one state or territory would be mentioned in any given sentence for every news article.\n",
    "\n",
    "\n",
    "Due to resource limitations, the solution for predicting the sentiment of each news article needed to be achieved with no more than 8GB GPU memory. Hence, this ruled out state-of-the-art model solutions such as BERT, which required more than 16GB GPU memory for most fine-tuning experiments (Hui, 2019)."
   ]
  },
  {
   "cell_type": "markdown",
   "id": "anonymous-rwanda",
   "metadata": {},
   "source": [
    "(Hui, 2019) - https://medium.com/nvidia-ai/how-to-scale-the-bert-training-with-nvidia-gpus-c1575e8eaf71#:~:text=For%20most%20of%20the%20fine,and%20later%20combine%20the%20results."
   ]
  },
  {
   "cell_type": "markdown",
   "id": "several-export",
   "metadata": {},
   "source": [
    "# Execute Natural Language Processing (NLP) Tasks"
   ]
  },
  {
   "cell_type": "markdown",
   "id": "pending-lesbian",
   "metadata": {},
   "source": [
    "## Named Entity Recognition (NER)"
   ]
  },
  {
   "cell_type": "markdown",
   "id": "narrow-employee",
   "metadata": {},
   "source": [
    "### Identify Places"
   ]
  },
  {
   "cell_type": "code",
   "execution_count": 12,
   "id": "smart-values",
   "metadata": {},
   "outputs": [],
   "source": [
    "# define function for extracting geographical entities (GPE) and locations (LOC) using NER\n",
    "def get_place_list(x):\n",
    "    # apply nlp to news article\n",
    "    article = nlp(x)\n",
    "    # extract GPE entities from article\n",
    "    place_list = [(X.text) for X in article.ents if (X.label_ == 'GPE') or (X.label_ == 'LOC')]\n",
    "    # sort alphabetically and de-duplicate GPE list\n",
    "    place_list = sorted(list(set(place_list)))\n",
    "    return place_list\n",
    "# apply function\n",
    "data2['Place'] = data2['Body_Transformed'].apply(get_place_list)\n",
    "\n",
    "# duplicate article for each GPE identified so sentimenet can be calculated per GPE\n",
    "data2 = data2.explode('Place').reset_index(drop = True)\n",
    "\n",
    "# select relevant sentences for each place\n",
    "def get_sentences(place, text):\n",
    "    # extract only the sentences containing the places\n",
    "    sentences = re.split(r'(?<!\\w\\.\\w.)(?<![A-Z][a-z]\\.)(?<=\\.|\\?)\\s', text)\n",
    "    sentences_list = [word for word in sentences if str(place) in word]\n",
    "    # use list comprehension convert list to string\n",
    "    #sentences_string = ' '.join([str(elem) for elem in sentences_list])\n",
    "    #return sentences_string\n",
    "    return sentences_list\n",
    "data2['Relevant_Body'] = data2.apply(lambda x: get_sentences(x['Place'], x['Body_Transformed']), axis=1)\n",
    "\n",
    "# duplicate article for each GPE identified so sentimenet can be calculated per GPE\n",
    "data2 = data2.explode('Relevant_Body').reset_index(drop = True)"
   ]
  },
  {
   "cell_type": "code",
   "execution_count": 13,
   "id": "unusual-application",
   "metadata": {},
   "outputs": [],
   "source": [
    "## define function for extracting geographical entities (GPE) and locations (LOC) using NER\n",
    "#def get_additional_context(text, sentence):\n",
    "    #index = text.find(str(sentence))\n",
    "    #if index < 0:\n",
    "        #string = sentence\n",
    "    #else:\n",
    "        #start = index - 110\n",
    "        #end = index + len(str(sentence)) + 110\n",
    "        #if start <= 0:\n",
    "            #start = 0\n",
    "        #else:\n",
    "            #start = start\n",
    "        #string = text[start:end]\n",
    "        #space_index_start = string.find(\" \")\n",
    "        #space_index_end = string.rfind(\" \")\n",
    "        #string = string[space_index_start:space_index_end]\n",
    "    #return string\n",
    "## apply function\n",
    "#data2['Relevant_Body2'] = data2.apply(lambda x: get_additional_context(x['Body_Transformed'], x['Relevant_Body']), axis=1)"
   ]
  },
  {
   "cell_type": "code",
   "execution_count": 14,
   "id": "foreign-premium",
   "metadata": {},
   "outputs": [],
   "source": [
    "# define function for extracting geographical entities (GPE) and locations (LOC) using NER\n",
    "def get_additional_context(text, sentence):\n",
    "    index = text.find(str(sentence))\n",
    "    if index < 0:\n",
    "        string = sentence\n",
    "    else:\n",
    "        start = index - 110\n",
    "        end = index + len(str(sentence)) + 110\n",
    "        if start <= 0:\n",
    "            start = 0\n",
    "            string = text[start:end]\n",
    "            end_new = string.rfind(\" \")\n",
    "            string = string[start:end_new]\n",
    "        else:\n",
    "            start = start\n",
    "            string = text[start:end]\n",
    "            start_new = string.find(\" \")\n",
    "            end_new = string.rfind(\" \")\n",
    "            string = string[start_new:end_new]\n",
    "    return string\n",
    "# apply function\n",
    "data2['Relevant_Body2'] = data2.apply(lambda x: get_additional_context(x['Body_Transformed'], x['Relevant_Body']), axis=1)"
   ]
  },
  {
   "cell_type": "markdown",
   "id": "palestinian-worker",
   "metadata": {},
   "source": [
    "Example of results:"
   ]
  },
  {
   "cell_type": "code",
   "execution_count": 15,
   "id": "another-citizen",
   "metadata": {},
   "outputs": [],
   "source": [
    "#example_text = data2['Body_Transformed'].iloc[135]\n",
    "#displacy.render(nlp(example_text), jupyter=True, style='ent')"
   ]
  },
  {
   "cell_type": "markdown",
   "id": "entitled-irish",
   "metadata": {},
   "source": [
    "### Standardise Locations"
   ]
  },
  {
   "cell_type": "code",
   "execution_count": 16,
   "id": "laden-senator",
   "metadata": {},
   "outputs": [],
   "source": [
    "## get unique values of geographical entities as repeated queries using Nominatim is not allowed per the usage policy\n",
    "#data2_unique = data2[['Place']].drop_duplicates(keep = 'first')\n",
    "## specify user agent as per usage policy\n",
    "#geolocator = Nominatim(user_agent=\"geoapiExercises\")\n",
    "\n",
    "## define function to get the full address of Geographical Entity\n",
    "#def get_full_address(x):\n",
    "    #location = geolocator.geocode(x)\n",
    "    ## limit requests to 1 every 1 second as per usage policy\n",
    "    #time.sleep(1)\n",
    "    #try:\n",
    "        #address = location.address\n",
    "    #except:\n",
    "        #address = 'None'\n",
    "    #return address\n",
    "#data2_unique['Full_Address'] = data2_unique['Place'].apply(get_full_address)\n",
    "\n",
    "## save addresses to csv (serves to cache the results so as to not repeat queries as per usage policy of Nominatim)\n",
    "#data2_unique.to_csv(r'C:/Users/Imran/Desktop/Assignment_3_Repo/standardised_addresses.csv', index = False)"
   ]
  },
  {
   "cell_type": "code",
   "execution_count": 17,
   "id": "informal-surfing",
   "metadata": {},
   "outputs": [],
   "source": [
    "# read in csv saved previously\n",
    "standardised_addresses = pd.read_csv(r'C:/Users/Imran/Desktop/Assignment_3_Repo/standardised_addresses.csv')\n",
    "\n",
    "# merge full address to dataframe by the place variable\n",
    "data3 = data2.merge(standardised_addresses, on = 'Place', how = 'left')\n",
    "\n",
    "# identify state\n",
    "def get_Key_Place(x):\n",
    "    if ('Australia' in str(x)) and ('New South Wales' in str(x)):\n",
    "        Key_Place = 'NSW'\n",
    "    elif ('Australia' in str(x)) and ('Queensland' in str(x)):\n",
    "        Key_Place = 'QLD'\n",
    "    elif ('Australia' in str(x)) and ('South Australia' in str(x)):\n",
    "        Key_Place = 'SA'\n",
    "    elif ('Australia' in str(x)) and ('Tasmania' in str(x)):\n",
    "        Key_Place = 'TAS'\n",
    "    elif ('Australia' in str(x)) and ('Victoria' in str(x)):\n",
    "        Key_Place = 'VIC'\n",
    "    elif ('Australia' in str(x)) and ('Western Australia' in str(x)):\n",
    "        Key_Place = 'WA'\n",
    "    elif ('Australia' in str(x)) and ('Northern Territory' in str(x)):\n",
    "        Key_Place = 'NT'\n",
    "    elif ('Australia' in str(x)) and ('Australian Capital Territory' in str(x)):\n",
    "        Key_Place = 'ACT'\n",
    "    elif ('Australia' in str(x)):\n",
    "        Key_Place = 'National'\n",
    "    else:\n",
    "        Key_Place = \"Overseas\"\n",
    "    return Key_Place\n",
    "data3['Place_Tag'] = data3['Full_Address'].apply(get_Key_Place)"
   ]
  },
  {
   "cell_type": "markdown",
   "id": "collective-incidence",
   "metadata": {},
   "source": [
    "### Assess Place Model Accuracy"
   ]
  },
  {
   "cell_type": "code",
   "execution_count": 18,
   "id": "finite-atlantic",
   "metadata": {},
   "outputs": [
    {
     "name": "stdout",
     "output_type": "stream",
     "text": [
      "Place Model Accuracy: 22%\n"
     ]
    }
   ],
   "source": [
    "def place_matched(Place_Tag, Tags_Transformed):\n",
    "    if str(Tags_Transformed).find(str(Place_Tag)) >=0:\n",
    "        return 'Matched'\n",
    "    else:\n",
    "        return 'No Match'\n",
    "\n",
    "# apply function\n",
    "data3['Place_Matched'] = data3.apply(lambda x: place_matched(x['Place_Tag'], x['Tags_Transformed']), axis=1)\n",
    "\n",
    "# subset to only include labelled records\n",
    "place_labelled = data3[data3['Tags_Transformed'].notna()]\n",
    "\n",
    "# subset records to only include places which have been indexed by a state or territory\n",
    "place_labelled = place_labelled[(place_labelled['Place_Tag'] != 'Overseas') & (place_labelled['Place_Tag'] != 'National')]\n",
    "\n",
    "# compute accuracy\n",
    "total = len(place_labelled)\n",
    "matched = len(place_labelled[place_labelled['Place_Matched']=='Matched'])\n",
    "Accuracy = matched/total\n",
    "print(\"Place Model Accuracy:\", \"{0:.0%}\".format(Accuracy))"
   ]
  },
  {
   "cell_type": "markdown",
   "id": "aging-intent",
   "metadata": {},
   "source": [
    "## Sentiment Analysis"
   ]
  },
  {
   "cell_type": "markdown",
   "id": "headed-toronto",
   "metadata": {},
   "source": [
    "### Data Preprocessing Continued"
   ]
  },
  {
   "cell_type": "code",
   "execution_count": 19,
   "id": "centered-contrast",
   "metadata": {},
   "outputs": [],
   "source": [
    "# remove excess white space\n",
    "data3['Body_Cleaned'] = data3['Relevant_Body2'].astype(str).apply(lambda x: ' '.join(x.split()))\n",
    "\n",
    "# convert to lowercase\n",
    "data3['Body_Cleaned'] = data3['Body_Cleaned'].str.lower()\n",
    "\n",
    "# remove punctuation\n",
    "data3['Body_Cleaned'] = data3['Body_Cleaned'].str.replace(r'[^\\w\\s]', '', regex = True)\n",
    "\n",
    "# remove stopwords\n",
    "stopwords = nltk.corpus.stopwords.words('english')\n",
    "def remove_stopwords(text):\n",
    "    word_tokens = word_tokenize(text)\n",
    "    filtered_tokenized_text = [word for word in word_tokens if word not in stopwords]\n",
    "    filtered_text = TreebankWordDetokenizer().detokenize(filtered_tokenized_text)\n",
    "    return filtered_text\n",
    "data3['Body_Cleaned'] = data3['Body_Cleaned'].apply(lambda x: remove_stopwords(x))\n",
    "\n",
    "# apply lemmatisation\n",
    "lemmatizer = WordNetLemmatizer()\n",
    "def apply_lemmatisation(text):\n",
    "    word_tokens = word_tokenize(text)\n",
    "    filtered_tokenized_text = [lemmatizer.lemmatize(w) for w in word_tokens]\n",
    "    filtered_text = TreebankWordDetokenizer().detokenize(filtered_tokenized_text)\n",
    "    return filtered_text\n",
    "data3['Body_Cleaned'] = data3['Body_Cleaned'].apply(lambda x: apply_lemmatisation(x))\n",
    "\n",
    "# remove numbers\n",
    "data3['Body_Cleaned'] = data3['Body_Cleaned'].str.replace(r'\\d+','', regex=True)"
   ]
  },
  {
   "cell_type": "markdown",
   "id": "small-chinese",
   "metadata": {},
   "source": [
    "### Label Sample Dataset"
   ]
  },
  {
   "cell_type": "code",
   "execution_count": 20,
   "id": "charged-buyer",
   "metadata": {},
   "outputs": [],
   "source": [
    "# save data to be labelled\n",
    "data3.to_csv(r'C:/Users/Imran/Desktop/Assignment_3_Repo/unlabelleddata.csv', index = True)\n",
    "\n",
    "# create new dataframe\n",
    "data4 = data3\n",
    "\n",
    "# read in csv saved previously\n",
    "Labelled_Data = pd.read_csv(r'C:/Users/Imran/Desktop/Assignment_3_Repo/labelleddatafixed.csv')\n",
    "\n",
    "# subset to only include labelled records\n",
    "Labelled_Data = Labelled_Data[Labelled_Data['Label'].notna()]\n",
    "\n",
    "# data type conversion\n",
    "Labelled_Data['Label'] = Labelled_Data['Label'].astype(int)\n",
    "\n",
    "# subset columns\n",
    "Labelled_Data = Labelled_Data[['Index', 'Label']]\n",
    "\n",
    "# merge label to dataframe\n",
    "data4['Index'] = data4.index\n",
    "data4 = pd.merge(data4, Labelled_Data, on ='Index', how = 'left')\n",
    "\n",
    "# define model data\n",
    "model_data = data4[['Body_Cleaned', 'Label']]\n",
    "\n",
    "# subset to only include labelled records\n",
    "model_data = model_data[model_data['Label'].notna()]"
   ]
  },
  {
   "cell_type": "markdown",
   "id": "understanding-alliance",
   "metadata": {},
   "source": [
    "### Implementing a Valence Aware Dictionary and sEntiment Reasoner (VADER)"
   ]
  },
  {
   "cell_type": "markdown",
   "id": "defensive-russian",
   "metadata": {},
   "source": [
    "#### Acquiring Sentiment Scores"
   ]
  },
  {
   "cell_type": "code",
   "execution_count": 21,
   "id": "ordered-outline",
   "metadata": {},
   "outputs": [],
   "source": [
    "# call the SentimenetIntensityAnalyser object\n",
    "analyser = SentimentIntensityAnalyzer()\n",
    "\n",
    "# define function to return compound sentiment scores\n",
    "def sentiment_analyzer_scores(sentence):\n",
    "    score = analyser.polarity_scores(sentence)['compound']\n",
    "    return score\n",
    "\n",
    "# get sentimenet for text\n",
    "data4['Body_Sentiment'] = data4['Body_Cleaned'].apply(sentiment_analyzer_scores)\n",
    "\n",
    "# subset dataframe to assess VADER accuracy\n",
    "model_data2 = data4[['Body_Cleaned', 'Label', 'Body_Sentiment']]\n",
    "\n",
    "# subset to only include labelled records\n",
    "model_data2 = model_data2[model_data2['Label'].notna()]\n",
    "\n",
    "# data type conversion\n",
    "model_data2['Label'] = model_data2['Label'].astype(int)"
   ]
  },
  {
   "cell_type": "markdown",
   "id": "limited-cricket",
   "metadata": {},
   "source": [
    "#### Converting Sentiment Scores to Discrete Predictions using VADER"
   ]
  },
  {
   "cell_type": "code",
   "execution_count": 22,
   "id": "faced-ontario",
   "metadata": {},
   "outputs": [
    {
     "data": {
      "image/png": "[encoded data removed]",
      "text/plain": [
       "<Figure size 720x720 with 4 Axes>"
      ]
     },
     "metadata": {},
     "output_type": "display_data"
    }
   ],
   "source": [
    "# define function to return compound sentiment scores\n",
    "def get_Class(Label):\n",
    "    if Label == 1:\n",
    "        return 'Positive'\n",
    "    if Label == 2:\n",
    "        return 'Negative'\n",
    "    else:\n",
    "        return 'Neutral'\n",
    "\n",
    "# get sentimenet for text\n",
    "model_data2['Class'] = model_data2['Label'].apply(get_Class)\n",
    "\n",
    "# set bins\n",
    "bins = 7\n",
    "\n",
    "# separate dataset into manual label classes\n",
    "b1 = model_data2[model_data2['Class'] == 'Positive']\n",
    "c1 = b1['Body_Sentiment']\n",
    "b2 = model_data2[model_data2['Class'] == 'Negative']\n",
    "c2 = b2['Body_Sentiment']\n",
    "b3 = model_data2[model_data2['Class'] == 'Neutral']\n",
    "c3 = b3['Body_Sentiment']\n",
    "\n",
    "# define subplots\n",
    "fig = plt.figure(figsize=(10,10))\n",
    "ax = fig.add_subplot(111) \n",
    "ax1 = fig.add_subplot(311)\n",
    "ax2 = fig.add_subplot(312)\n",
    "ax3 = fig.add_subplot(313)\n",
    "\n",
    "# Turn off axis lines and ticks of the big subplot\n",
    "ax.spines['top'].set_color('none')\n",
    "ax.spines['bottom'].set_color('none')\n",
    "ax.spines['left'].set_color('none')\n",
    "ax.spines['right'].set_color('none')\n",
    "ax.tick_params(labelcolor='w', top=False, bottom=False, left=False, right=False)\n",
    "\n",
    "# plot subplots\n",
    "ax1.hist(c1, bins = bins, color=\"blue\", alpha = 0.5, density = True)[0]\n",
    "ax2.hist(c2, bins = bins, color=\"red\", alpha = 0.5, density = True)[0]\n",
    "ax3.hist(c3, bins = bins, color=\"green\", alpha = 0.5, density = True)[0]\n",
    "\n",
    "# set x and y limits\n",
    "ax1.set_xlim(-1, 1)\n",
    "ax1.set_ylim(0, 2.5)\n",
    "ax2.set_xlim(-1, 1)\n",
    "ax2.set_ylim(0, 2.5)\n",
    "ax3.set_xlim(-1, 1)\n",
    "ax3.set_ylim(0, 2.5)\n",
    "\n",
    "# Set common labels\n",
    "ax.set_xlabel('VADER Sentiment')\n",
    "ax.set_ylabel('Density')\n",
    "ax1.set_title('Spread of VADER Sentiment by Manual Label')\n",
    "\n",
    "# Create the legend\n",
    "line_labels = [\"Positive\", \"Negative\", \"Neutral\"]\n",
    "fig.legend([ax1, ax2, ax3],\n",
    "           labels = line_labels,\n",
    "           loc=\"upper right\",\n",
    "           bbox_to_anchor = (1.08, 0.88),\n",
    "           title = \"Manual Label\",\n",
    "           frameon = False)\n",
    "\n",
    "# show plot\n",
    "plt.show()"
   ]
  },
  {
   "cell_type": "markdown",
   "id": "hourly-offer",
   "metadata": {},
   "source": [
    "From the above plots, the following class thresholds were chosen for converting sentiment scores to discrete predictions that align with the manual labelling effort."
   ]
  },
  {
   "cell_type": "code",
   "execution_count": 23,
   "id": "enabling-group",
   "metadata": {},
   "outputs": [],
   "source": [
    "# get VADER label\n",
    "def get_VADER_label(i):\n",
    "    if float(i) > 0:\n",
    "        return 1\n",
    "    elif float(i) >= -0.1 and float(i) <=0:\n",
    "        return 0\n",
    "    else:\n",
    "        return 2\n",
    "\n",
    "# get label from VADER sentiment\n",
    "model_data2['VADER Prediction'] = model_data2['Body_Sentiment'].apply(get_VADER_label)\n",
    "\n",
    "# data type conversion\n",
    "model_data2['VADER Prediction'] = model_data2['VADER Prediction'].astype(int)"
   ]
  },
  {
   "cell_type": "markdown",
   "id": "conservative-heading",
   "metadata": {},
   "source": [
    "#### Assess the Precision and Recall of the VADER Model"
   ]
  },
  {
   "cell_type": "code",
   "execution_count": 24,
   "id": "deluxe-hunter",
   "metadata": {},
   "outputs": [
    {
     "name": "stdout",
     "output_type": "stream",
     "text": [
      "              precision    recall  f1-score   support\n",
      "\n",
      "     Neutral       0.45      0.38      0.41        89\n",
      "    Positive       0.50      0.77      0.61       227\n",
      "    Negative       0.58      0.24      0.34       184\n",
      "\n",
      "    accuracy                           0.51       500\n",
      "   macro avg       0.51      0.47      0.46       500\n",
      "weighted avg       0.52      0.51      0.48       500\n",
      "\n"
     ]
    }
   ],
   "source": [
    "# assess results\n",
    "target_names = ['Neutral', 'Positive', 'Negative']\n",
    "print(classification_report(model_data2['Label'], model_data2['VADER Prediction'], target_names = target_names))"
   ]
  },
  {
   "cell_type": "markdown",
   "id": "senior-meaning",
   "metadata": {},
   "source": [
    "### Preparing Data for Training New Models"
   ]
  },
  {
   "cell_type": "markdown",
   "id": "fewer-liechtenstein",
   "metadata": {},
   "source": [
    "The first line above, gets the word counts for the documents in a sparse matrix form. We could have actually used word_count_vector from above. However, in practice, you may be computing tf-idf scores on a set of new unseen documents. When you do that, you will first have to do cv.transform(your_new_docs) to generate the matrix of word counts.\n",
    "\n",
    "Then, by invoking tfidf_transformer.transform(count_vector) you will finally be computing the tf-idf scores for your docs. Internally this is computing the tf * idf  multiplication where your term frequency is weighted by its IDF values.\n",
    "\n",
    "https://kavita-ganesan.com/tfidftransformer-tfidfvectorizer-usage-differences/#.YHq2I-gzag0"
   ]
  },
  {
   "cell_type": "code",
   "execution_count": 25,
   "id": "informed-spanking",
   "metadata": {},
   "outputs": [],
   "source": [
    "from sklearn.feature_extraction.text import TfidfVectorizer\n",
    "\n",
    "# split training and test data\n",
    "train, test = train_test_split(model_data, test_size = 0.1, stratify = model_data['Label'], random_state = 101)\n",
    "\n",
    "# Create feature vectors\n",
    "vectorizer = TfidfVectorizer(min_df = 5,\n",
    "                             max_df = 0.8,\n",
    "                             sublinear_tf = True,\n",
    "                             use_idf = True)\n",
    "train_vectors = vectorizer.fit_transform(train['Body_Cleaned'])\n",
    "test_vectors = vectorizer.transform(test['Body_Cleaned'])"
   ]
  },
  {
   "cell_type": "markdown",
   "id": "suspected-velvet",
   "metadata": {},
   "source": [
    "### Implementing a Weighted, Multinomial Logistic Regression Model"
   ]
  },
  {
   "cell_type": "markdown",
   "id": "viral-carbon",
   "metadata": {},
   "source": [
    "#### Logistic Regression Model Hyperparamter Tuning"
   ]
  },
  {
   "cell_type": "markdown",
   "id": "alive-lightweight",
   "metadata": {},
   "source": [
    "Currently the ‘multinomial’ option is supported only by the ‘lbfgs’, ‘sag’, ‘saga’ and ‘newton-cg’ solvers\n",
    "\n",
    "The ‘newton-cg’, ‘sag’, and ‘lbfgs’ solvers support only L2 regularization with primal formulation, or no regularization.\n",
    "\n",
    "The “balanced” mode uses the values of y to automatically adjust weights inversely proportional to class frequencies in the input data as n_samples / (n_classes * np.bincount(y)).\n",
    "\n",
    "https://scikit-learn.org/stable/modules/generated/sklearn.linear_model.LogisticRegression.html\n",
    "\n",
    "This also can be done during working on a ML model, that is, using validation set instead of cross-validation. However, to avoid “wasting” too much training data in validation sets, a common technique is to use cross-validation.\n",
    "\n",
    "https://stats.stackexchange.com/questions/439485/how-to-evaluate-whether-model-is-overfitting-or-underfitting-when-using-cross-va\n",
    "\n",
    "I suggest using GridSearchCV with StratifiedKFold (it's already the default strategy for GridSearchCV when passing a classifier as estimator).\n",
    "\n",
    "https://stackoverflow.com/questions/31956501/sklearn-model-keeps-overfitting"
   ]
  },
  {
   "cell_type": "code",
   "execution_count": 26,
   "id": "noted-greene",
   "metadata": {},
   "outputs": [
    {
     "name": "stdout",
     "output_type": "stream",
     "text": [
      "Split           Train         Test\n",
      "--------------  ------------  ------------\n",
      "1               97.1%         39.8%\n",
      "2               96.6%         66.7%\n",
      "3               96.7%         68.1%\n",
      "4               97.3%         70.4%\n",
      "5               97.0%         73.8%\n",
      "Mean ± Std Dev  96.9% ± 0.3%  64.4% ± 9.4%\n",
      "\n"
     ]
    }
   ],
   "source": [
    "# define estimator\n",
    "LR_estimator = LogisticRegression(multi_class = 'multinomial', \n",
    "                                  class_weight='balanced', \n",
    "                                  penalty = 'l2', \n",
    "                                  random_state = 101)\n",
    "\n",
    "# define range of parameters to optimise the estimator\n",
    "LR_parameters = {'solver': ['lbfgs', 'sag', 'saga', 'newton-cg'],\n",
    "                 'C': [0.001, 0.01, 0.1, 1, 10, 100]}\n",
    "\n",
    "# define function for optimising the estimator estimator\n",
    "def optimised_LR_model(estimator, parameters):\n",
    "    grid_search = GridSearchCV(estimator= estimator, \n",
    "                               param_grid = parameters, \n",
    "                               scoring = 'f1_macro',\n",
    "                               cv = 10,\n",
    "                               return_train_score = True,\n",
    "                               verbose=True)\n",
    "\n",
    "    grid_search.fit(train_vectors, train['Label'])\n",
    "\n",
    "    optimised_LR_model = grid_search.best_estimator_\n",
    "\n",
    "    pickle.dump(optimised_LR_model, open('optimised_LR_model.sav', 'wb'))\n",
    "    \n",
    "    # print results to check for overfitting\n",
    "    #print(\"params\", grid_search.cv_results_[\"params\"])\n",
    "    #print(\"best_estimator_\", optimised_LR_model)\n",
    "    \n",
    "    data = [\n",
    "    [\"1\", \n",
    "     str(round(grid_search.cv_results_[\"split1_train_score\"][-1]*100,1)) + \"%\", \n",
    "     str(round(grid_search.cv_results_[\"split1_test_score\"][-1]*100,1)) + '%'],\n",
    "    [\"2\", \n",
    "     str(round(grid_search.cv_results_[\"split2_train_score\"][-1]*100,1)) + \"%\", \n",
    "     str(round(grid_search.cv_results_[\"split2_test_score\"][-1]*100,1)) + '%'],\n",
    "    [\"3\", \n",
    "     str(round(grid_search.cv_results_[\"split3_train_score\"][-1]*100,1)) + \"%\", \n",
    "     str(round(grid_search.cv_results_[\"split3_test_score\"][-1]*100,1)) + '%'],\n",
    "    [\"4\", \n",
    "     str(round(grid_search.cv_results_[\"split4_train_score\"][-1]*100,1)) + \"%\", \n",
    "     str(round(grid_search.cv_results_[\"split4_test_score\"][-1]*100,1)) + '%'],\n",
    "    [\"5\", \n",
    "     str(round(grid_search.cv_results_[\"split5_train_score\"][-1]*100,1)) + \"%\", \n",
    "     str(round(grid_search.cv_results_[\"split5_test_score\"][-1]*100,1)) + '%'],\n",
    "    [\"Mean \\u00B1 Std Dev\", \n",
    "     str(round((grid_search.cv_results_[\"mean_train_score\"][-1])*100,1)) + \"% \\u00B1 \" \\\n",
    "     + str(round((grid_search.cv_results_[\"std_train_score\"][-1])*100,1)) + \"%\", \n",
    "     str(round((grid_search.cv_results_[\"mean_test_score\"][-1])*100,1)) + \"% \\u00B1 \" \\\n",
    "     + str(round((grid_search.cv_results_[\"std_test_score\"][-1])*100,1)) + \"%\"]] \n",
    "    #print(tabulate(data, headers=[\"Split\", \"Train\", \"Test\"]))\n",
    "    \n",
    "    with open(\"LR_output.txt\", \"a\") as LR_output:\n",
    "        print(tabulate(data, headers=[\"Split\", \"Train\", \"Test\"]), file = LR_output)\n",
    "\n",
    "## run function\n",
    "#optimised_LR_model(LR_estimator, LR_parameters)\n",
    "LR_output = open(r'C:/Users/Imran/Desktop/Assignment_3_Repo/LR_output.txt', \"r\")\n",
    "print(LR_output.read())"
   ]
  },
  {
   "cell_type": "markdown",
   "id": "instant-scout",
   "metadata": {},
   "source": [
    "Regulurisation using the L2 norm for penalisation was implemented in the logistic regression model in an attemot to prevent overfitting. Additionally, the cross-validation method of using stratified k-folds was also implemented using GridSearchCV in an attempt to prevent overfitting. However, when comparing the training and test scores, these attempts to prevent overfitting appeared to have failed. This was likely due to there being insufficient training data to accurately reflect the model's diversity and complexity.\n",
    "\n",
    "https://www.kdnuggets.com/2019/09/mathworks-common-machine-learning-obstacles.html"
   ]
  },
  {
   "cell_type": "markdown",
   "id": "adapted-payment",
   "metadata": {},
   "source": [
    "#### Make Predictions using Logistic Regression Model"
   ]
  },
  {
   "cell_type": "code",
   "execution_count": 27,
   "id": "iraqi-luxembourg",
   "metadata": {},
   "outputs": [],
   "source": [
    "# load best estimator\n",
    "optimised_LR_model = pickle.load(open('optimised_LR_model.sav', 'rb'))\n",
    "\n",
    "# fit model for prediction making\n",
    "optimised_LR_model.fit(train_vectors, train['Label'])\n",
    "\n",
    "# make predictions\n",
    "LR_y_pred = optimised_LR_model.predict(test_vectors)"
   ]
  },
  {
   "cell_type": "markdown",
   "id": "amino-sharing",
   "metadata": {},
   "source": [
    "#### Assess the Precision and Recall of the Logistic Regression Model"
   ]
  },
  {
   "cell_type": "code",
   "execution_count": 28,
   "id": "working-statement",
   "metadata": {},
   "outputs": [
    {
     "name": "stdout",
     "output_type": "stream",
     "text": [
      "              precision    recall  f1-score   support\n",
      "\n",
      "     Neutral       0.56      0.56      0.56         9\n",
      "    Positive       0.67      0.78      0.72        23\n",
      "    Negative       0.86      0.67      0.75        18\n",
      "\n",
      "    accuracy                           0.70        50\n",
      "   macro avg       0.69      0.67      0.68        50\n",
      "weighted avg       0.72      0.70      0.70        50\n",
      "\n"
     ]
    }
   ],
   "source": [
    "# assess results\n",
    "target_names = ['Neutral', 'Positive', 'Negative']\n",
    "print(classification_report(test['Label'], LR_y_pred, target_names = target_names))"
   ]
  },
  {
   "cell_type": "markdown",
   "id": "treated-thought",
   "metadata": {},
   "source": [
    "### Implementing a Weighted, Multiclass Support Vector Machine Model"
   ]
  },
  {
   "cell_type": "markdown",
   "id": "documented-monkey",
   "metadata": {},
   "source": [
    "#### Support Vector Machine Model Hyperparamter Tuning"
   ]
  },
  {
   "cell_type": "markdown",
   "id": "cubic-session",
   "metadata": {},
   "source": [
    "if not given, all classes are supposed to have weight one. The “balanced” mode uses the values of y to automatically adjust weights inversely proportional to class frequencies in the input data as n_samples / (n_classes * np.bincount(y))\n",
    "\n",
    "https://scikit-learn.org/stable/modules/generated/sklearn.svm.SVC.html\n",
    "\n",
    "Binary classification models like logistic regression and SVM do not support multi-class classification natively and require meta-strategies.\n",
    "The One-vs-Rest strategy splits a multi-class classification into one binary classification problem per class.\n",
    "\n",
    "https://machinelearningmastery.com/one-vs-rest-and-one-vs-one-for-multi-class-classification/"
   ]
  },
  {
   "cell_type": "code",
   "execution_count": 29,
   "id": "equal-winter",
   "metadata": {},
   "outputs": [
    {
     "name": "stdout",
     "output_type": "stream",
     "text": [
      "Split           Train         Test\n",
      "--------------  ------------  ------------\n",
      "1               64.7%         36.7%\n",
      "2               65.9%         68.3%\n",
      "3               63.0%         64.0%\n",
      "4               64.0%         47.8%\n",
      "5               63.7%         61.8%\n",
      "Mean ± Std Dev  64.9% ± 1.9%  54.6% ± 9.4%\n",
      "\n"
     ]
    }
   ],
   "source": [
    "# define nested estimator\n",
    "SVM_estimator = OneVsRestClassifier(SVC(class_weight='balanced', random_state = 101))\n",
    "\n",
    "# define range of parameters to optimise the estimator\n",
    "SVM_parameters = {'estimator__kernel': ['poly', 'rbf', 'sigmoid'],\n",
    "                 'estimator__C': [0.1, 1, 1],\n",
    "                 'estimator__gamma': [0.001, 0.01, 0.1]}\n",
    "\n",
    "# define function for optimising the estimator estimator\n",
    "def optimised_SVM_model(estimator, parameters):\n",
    "    grid_search = GridSearchCV(estimator= estimator, \n",
    "                               param_grid = parameters, \n",
    "                               scoring = 'f1_macro',\n",
    "                               cv = 10,\n",
    "                               return_train_score = True,\n",
    "                               verbose=True)\n",
    "\n",
    "    grid_search.fit(train_vectors, train['Label'])\n",
    "\n",
    "    optimised_SVM_model = grid_search.best_estimator_\n",
    "\n",
    "    pickle.dump(optimised_SVM_model, open('optimised_SVM_model.sav', 'wb'))\n",
    "\n",
    "    # print results to check for overfitting\n",
    "    #print(\"params\", grid_search.cv_results_[\"params\"])\n",
    "    #print(\"best_estimator_\", optimised_SVM_model)\n",
    "    \n",
    "    data = [\n",
    "    [\"1\", \n",
    "     str(round(grid_search.cv_results_[\"split1_train_score\"][-1]*100,1)) + \"%\", \n",
    "     str(round(grid_search.cv_results_[\"split1_test_score\"][-1]*100,1)) + '%'],\n",
    "    [\"2\", \n",
    "     str(round(grid_search.cv_results_[\"split2_train_score\"][-1]*100,1)) + \"%\", \n",
    "     str(round(grid_search.cv_results_[\"split2_test_score\"][-1]*100,1)) + '%'],\n",
    "    [\"3\", \n",
    "     str(round(grid_search.cv_results_[\"split3_train_score\"][-1]*100,1)) + \"%\", \n",
    "     str(round(grid_search.cv_results_[\"split3_test_score\"][-1]*100,1)) + '%'],\n",
    "    [\"4\", \n",
    "     str(round(grid_search.cv_results_[\"split4_train_score\"][-1]*100,1)) + \"%\", \n",
    "     str(round(grid_search.cv_results_[\"split4_test_score\"][-1]*100,1)) + '%'],\n",
    "    [\"5\", \n",
    "     str(round(grid_search.cv_results_[\"split5_train_score\"][-1]*100,1)) + \"%\", \n",
    "     str(round(grid_search.cv_results_[\"split5_test_score\"][-1]*100,1)) + '%'],\n",
    "    [\"Mean \\u00B1 Std Dev\", \n",
    "     str(round((grid_search.cv_results_[\"mean_train_score\"][-1])*100,1)) + \"% \\u00B1 \" \\\n",
    "     + str(round((grid_search.cv_results_[\"std_train_score\"][-1])*100,1)) + \"%\", \n",
    "     str(round((grid_search.cv_results_[\"mean_test_score\"][-1])*100,1)) + \"% \\u00B1 \" \\\n",
    "     + str(round((grid_search.cv_results_[\"std_test_score\"][-1])*100,1)) + \"%\"]] \n",
    "    #print(tabulate(data, headers=[\"Split\", \"Train\", \"Test\"]))\n",
    "    \n",
    "    with open(\"SVM_output.txt\", \"a\") as SVM_output:\n",
    "        print(tabulate(data, headers=[\"Split\", \"Train\", \"Test\"]), file = SVM_output)\n",
    "\n",
    "## run function\n",
    "#optimised_SVM_model(SVM_estimator, SVM_parameters)\n",
    "SVM_output = open(r'C:/Users/Imran/Desktop/Assignment_3_Repo/SVM_output.txt', \"r\")\n",
    "print(SVM_output.read())"
   ]
  },
  {
   "cell_type": "markdown",
   "id": "deadly-elephant",
   "metadata": {},
   "source": [
    "Attempted to reduce overfitting by softening the SVM margin by limiting the parameter 'C' to be low."
   ]
  },
  {
   "cell_type": "markdown",
   "id": "applicable-bookmark",
   "metadata": {},
   "source": [
    "#### Make Predictions using Support Vector Machine Model"
   ]
  },
  {
   "cell_type": "code",
   "execution_count": 30,
   "id": "temporal-column",
   "metadata": {},
   "outputs": [],
   "source": [
    "# load best estimator\n",
    "optimised_SVM_model = pickle.load(open('optimised_SVM_model.sav', 'rb'))\n",
    "\n",
    "# fit model for prediction making\n",
    "optimised_SVM_model.fit(train_vectors, train['Label'])\n",
    "\n",
    "# make predictions\n",
    "SVM_y_pred = optimised_SVM_model.predict(test_vectors)"
   ]
  },
  {
   "cell_type": "markdown",
   "id": "gothic-dominican",
   "metadata": {},
   "source": [
    "#### Assess the Precision and Recall of the Support Vector Machine Model"
   ]
  },
  {
   "cell_type": "code",
   "execution_count": 31,
   "id": "gentle-professor",
   "metadata": {},
   "outputs": [
    {
     "name": "stdout",
     "output_type": "stream",
     "text": [
      "              precision    recall  f1-score   support\n",
      "\n",
      "     Neutral       0.45      0.56      0.50         9\n",
      "    Positive       0.74      0.61      0.67        23\n",
      "    Negative       0.65      0.72      0.68        18\n",
      "\n",
      "    accuracy                           0.64        50\n",
      "   macro avg       0.61      0.63      0.62        50\n",
      "weighted avg       0.65      0.64      0.64        50\n",
      "\n"
     ]
    }
   ],
   "source": [
    "# assess results\n",
    "print(classification_report(test['Label'], SVM_y_pred, target_names = target_names))"
   ]
  },
  {
   "cell_type": "markdown",
   "id": "disabled-river",
   "metadata": {},
   "source": [
    "### Implementing a Multinomial Naive Bayes Model"
   ]
  },
  {
   "cell_type": "markdown",
   "id": "coupled-april",
   "metadata": {},
   "source": [
    "#### Naive Bayes Model Hyperparamter Tuning"
   ]
  },
  {
   "cell_type": "code",
   "execution_count": 32,
   "id": "described-diploma",
   "metadata": {},
   "outputs": [
    {
     "name": "stdout",
     "output_type": "stream",
     "text": [
      "Split           Train         Test\n",
      "--------------  ------------  ------------\n",
      "1               63.1%         41.0%\n",
      "2               66.5%         71.7%\n",
      "3               63.8%         56.5%\n",
      "4               64.8%         49.1%\n",
      "5               64.4%         61.5%\n",
      "Mean ± Std Dev  64.7% ± 1.7%  54.0% ± 8.9%\n",
      "\n"
     ]
    }
   ],
   "source": [
    "# define nested estimator\n",
    "NB_estimator = OneVsRestClassifier(MultinomialNB())\n",
    "\n",
    "# define range of parameters to optimise the estimator\n",
    "NB_parameters = {'estimator__alpha': [0, 0.25, 0.5, 0.75, 1]}\n",
    "\n",
    "# define function for optimising the estimator estimator\n",
    "def optimised_NB_model(estimator, parameters):\n",
    "    grid_search = GridSearchCV(estimator= estimator, \n",
    "                               param_grid = parameters, \n",
    "                               scoring = 'f1_macro',\n",
    "                               cv = 10, \n",
    "                               return_train_score = True,\n",
    "                               verbose=True)\n",
    "\n",
    "    grid_search.fit(train_vectors, train['Label'])\n",
    "\n",
    "    optimised_NB_model = grid_search.best_estimator_\n",
    "\n",
    "    pickle.dump(optimised_NB_model, open('optimised_NB_model.sav', 'wb'))\n",
    "    \n",
    "    # print results to check for overfitting\n",
    "    print(\"params\", grid_search.cv_results_[\"params\"])\n",
    "    print(\"best_estimator_\", optimised_NB_model)\n",
    "    \n",
    "    data = [\n",
    "    [\"1\", \n",
    "     str(round(grid_search.cv_results_[\"split1_train_score\"][-1]*100,1)) + \"%\", \n",
    "     str(round(grid_search.cv_results_[\"split1_test_score\"][-1]*100,1)) + '%'],\n",
    "    [\"2\", \n",
    "     str(round(grid_search.cv_results_[\"split2_train_score\"][-1]*100,1)) + \"%\", \n",
    "     str(round(grid_search.cv_results_[\"split2_test_score\"][-1]*100,1)) + '%'],\n",
    "    [\"3\", \n",
    "     str(round(grid_search.cv_results_[\"split3_train_score\"][-1]*100,1)) + \"%\", \n",
    "     str(round(grid_search.cv_results_[\"split3_test_score\"][-1]*100,1)) + '%'],\n",
    "    [\"4\", \n",
    "     str(round(grid_search.cv_results_[\"split4_train_score\"][-1]*100,1)) + \"%\", \n",
    "     str(round(grid_search.cv_results_[\"split4_test_score\"][-1]*100,1)) + '%'],\n",
    "    [\"5\", \n",
    "     str(round(grid_search.cv_results_[\"split5_train_score\"][-1]*100,1)) + \"%\", \n",
    "     str(round(grid_search.cv_results_[\"split5_test_score\"][-1]*100,1)) + '%'],\n",
    "    [\"Mean \\u00B1 Std Dev\", \n",
    "     str(round((grid_search.cv_results_[\"mean_train_score\"][-1])*100,1)) + \"% \\u00B1 \" \\\n",
    "     + str(round((grid_search.cv_results_[\"std_train_score\"][-1])*100,1)) + \"%\", \n",
    "     str(round((grid_search.cv_results_[\"mean_test_score\"][-1])*100,1)) + \"% \\u00B1 \" \\\n",
    "     + str(round((grid_search.cv_results_[\"std_test_score\"][-1])*100,1)) + \"%\"]] \n",
    "    #print(tabulate(data, headers=[\"Split\", \"Train\", \"Test\"]))\n",
    "    \n",
    "    with open(\"NB_output.txt\", \"a\") as NB_output:\n",
    "        print(tabulate(data, headers=[\"Split\", \"Train\", \"Test\"]), file = NB_output)\n",
    "\n",
    "## run function\n",
    "#optimised_NB_model(NB_estimator, NB_parameters)\n",
    "NB_output = open(r'C:/Users/Imran/Desktop/Assignment_3_Repo/NB_output.txt', \"r\")\n",
    "print(NB_output.read())"
   ]
  },
  {
   "cell_type": "markdown",
   "id": "scenic-theorem",
   "metadata": {},
   "source": [
    "When alpha is too small it leads to overfitting. However, this is not occuring here.\n",
    "\n",
    "https://medium.com/analytics-vidhya/understanding-machine-learning-algorithms-naive-bayes-808ed649c1ec"
   ]
  },
  {
   "cell_type": "markdown",
   "id": "substantial-soviet",
   "metadata": {},
   "source": [
    "#### Make Predictions using Naive Bayes Model"
   ]
  },
  {
   "cell_type": "code",
   "execution_count": 33,
   "id": "attended-plymouth",
   "metadata": {},
   "outputs": [],
   "source": [
    "# load best estimator\n",
    "optimised_NB_model = pickle.load(open('optimised_NB_model.sav', 'rb'))\n",
    "\n",
    "# fit model for prediction making\n",
    "optimised_NB_model.fit(train_vectors, train['Label'])\n",
    "\n",
    "# make predictions\n",
    "NB_y_pred = optimised_NB_model.predict(test_vectors)"
   ]
  },
  {
   "cell_type": "markdown",
   "id": "simplified-making",
   "metadata": {},
   "source": [
    "#### Assess the Precision and Recall of the Naive Bayes Model"
   ]
  },
  {
   "cell_type": "code",
   "execution_count": 34,
   "id": "bound-constraint",
   "metadata": {},
   "outputs": [
    {
     "name": "stdout",
     "output_type": "stream",
     "text": [
      "              precision    recall  f1-score   support\n",
      "\n",
      "     Neutral       1.00      0.44      0.62         9\n",
      "    Positive       0.61      0.87      0.71        23\n",
      "    Negative       0.69      0.50      0.58        18\n",
      "\n",
      "    accuracy                           0.66        50\n",
      "   macro avg       0.77      0.60      0.64        50\n",
      "weighted avg       0.71      0.66      0.65        50\n",
      "\n"
     ]
    }
   ],
   "source": [
    "# assess results\n",
    "print(classification_report(test['Label'], NB_y_pred, target_names = target_names))"
   ]
  },
  {
   "cell_type": "markdown",
   "id": "dynamic-dallas",
   "metadata": {},
   "source": [
    "# Analysis"
   ]
  },
  {
   "cell_type": "markdown",
   "id": "divine-rebate",
   "metadata": {},
   "source": [
    "### Data Processing"
   ]
  },
  {
   "cell_type": "code",
   "execution_count": 35,
   "id": "express-quick",
   "metadata": {},
   "outputs": [],
   "source": [
    "# transform all records using previously fitted vectorizer\n",
    "data_vectors = vectorizer.transform(data4['Body_Cleaned'])\n",
    "\n",
    "# make predictions\n",
    "y_pred = optimised_NB_model.predict(data_vectors)\n",
    "\n",
    "# change to dataframe\n",
    "y_pred = pd.DataFrame(y_pred, columns = ['Pred'])\n",
    "\n",
    "# join predictions to dataframe\n",
    "data4 = pd.concat([data4, y_pred], axis=1)\n",
    "\n",
    "# define baseline count\n",
    "data4['Count'] = 1\n",
    "\n",
    "# weight counts by label\n",
    "def get_weights(i):\n",
    "    if float(i) == 1:\n",
    "        return 1\n",
    "    elif float(i) == 2:\n",
    "        return -1\n",
    "    else:\n",
    "        return 0\n",
    "data4['Weight'] = data4['Pred'].apply(get_weights)\n",
    "\n",
    "# calculate sentiment score from best model\n",
    "data4['Sentiment_Score'] = data4.Count * data4.Weight\n",
    "\n",
    "# make new dataset\n",
    "data5 = data4\n",
    "\n",
    "# subset columns of dataframe and the data into key places\n",
    "data5_NSW = data5[data5['Place_Tag'] == 'NSW'][['Date_Transformed', 'Sentiment_Score']]\n",
    "data5_QLD = data5[data5['Place_Tag'] == 'QLD'][['Date_Transformed', 'Sentiment_Score']]\n",
    "data5_SA = data5[data5['Place_Tag'] == 'SA'][['Date_Transformed', 'Sentiment_Score']]\n",
    "data5_TAS = data5[data5['Place_Tag'] == 'TAS'][['Date_Transformed', 'Sentiment_Score']]\n",
    "data5_VIC = data5[data5['Place_Tag'] == 'VIC'][['Date_Transformed', 'Sentiment_Score']]\n",
    "data5_WA = data5[data5['Place_Tag'] == 'WA'][['Date_Transformed', 'Sentiment_Score']]\n",
    "data5_NT = data5[data5['Place_Tag'] == 'NT'][['Date_Transformed', 'Sentiment_Score']]\n",
    "data5_ACT = data5[data5['Place_Tag'] == 'ACT'][['Date_Transformed', 'Sentiment_Score']]\n",
    "\n",
    "# group by date in a regular format\n",
    "data5_NSW = data5_NSW.resample('d', on='Date_Transformed')[['Sentiment_Score']].mean()\n",
    "data5_QLD = data5_QLD.resample('d', on='Date_Transformed')[['Sentiment_Score']].mean()\n",
    "data5_SA = data5_SA.resample('d', on='Date_Transformed')[['Sentiment_Score']].mean()\n",
    "data5_TAS = data5_TAS.resample('d', on='Date_Transformed')[['Sentiment_Score']].mean()\n",
    "data5_VIC = data5_VIC.resample('d', on='Date_Transformed')[['Sentiment_Score']].mean()\n",
    "data5_WA = data5_WA.resample('d', on='Date_Transformed')[['Sentiment_Score']].mean()\n",
    "data5_NT = data5_NT.resample('d', on='Date_Transformed')[['Sentiment_Score']].mean()\n",
    "data5_ACT = data5_ACT.resample('d', on='Date_Transformed')[['Sentiment_Score']].mean()\n",
    "\n",
    "# sort dataframe by date to compute cumulative compound sentiment scores over time\n",
    "data5_NSW = data5_NSW.sort_values(by = 'Date_Transformed', ascending = True)\n",
    "data5_QLD = data5_QLD.sort_values(by = 'Date_Transformed', ascending = True)\n",
    "data5_SA = data5_SA.sort_values(by = 'Date_Transformed', ascending = True)\n",
    "data5_TAS = data5_TAS.sort_values(by = 'Date_Transformed', ascending = True)\n",
    "data5_VIC = data5_VIC.sort_values(by = 'Date_Transformed', ascending = True)\n",
    "data5_WA = data5_WA.sort_values(by = 'Date_Transformed', ascending = True)\n",
    "data5_NT = data5_NT.sort_values(by = 'Date_Transformed', ascending = True)\n",
    "data5_ACT = data5_ACT.sort_values(by = 'Date_Transformed', ascending = True)\n",
    "\n",
    "# missing value imputation\n",
    "data5_NSW = data5_NSW.fillna(0.0)\n",
    "data5_QLD = data5_QLD.fillna(0.0)\n",
    "data5_SA = data5_SA.fillna(0.0)\n",
    "data5_TAS = data5_TAS.fillna(0.0)\n",
    "data5_VIC = data5_VIC.fillna(0.0)\n",
    "data5_WA = data5_WA.fillna(0.0)\n",
    "data5_NT = data5_NT.fillna(0.0)\n",
    "data5_ACT = data5_ACT.fillna(0.0)\n",
    "\n",
    "# merge dataframes together\n",
    "data5 = pd.concat([data5_NSW, data5_QLD, data5_SA, data5_TAS, data5_VIC, data5_WA, data5_NT, data5_ACT], axis = 1)\n",
    "\n",
    "# rename columns\n",
    "data5.columns = ['Sentiment_Score_NSW', 'Sentiment_Score_QLD', 'Sentiment_Score_SA', 'Sentiment_Score_TAS',\n",
    "                'Sentiment_Score_VIC', 'Sentiment_Score_WA', 'Sentiment_Score_NT', 'Sentiment_Score_ACT']\n",
    "\n",
    "# missing value imputation for body sentiment after merge for missing weeks\n",
    "data5 = data5.fillna(0.0)"
   ]
  },
  {
   "cell_type": "markdown",
   "id": "violent-wales",
   "metadata": {},
   "source": [
    "### Plot Cumulative Sums of Compound Sentiments over Time"
   ]
  },
  {
   "cell_type": "code",
   "execution_count": 36,
   "id": "operational-cutting",
   "metadata": {},
   "outputs": [],
   "source": [
    "# specify start date\n",
    "start_date = '2016-01-01'\n",
    "# specify end date\n",
    "end_date = '2021-12-01'\n",
    "\n",
    "# define function for calculating cumulative sums\n",
    "def plot_cumulative_sum(data5, start_date, end_date):\n",
    "    \n",
    "    # put in start date caps\n",
    "    if pd.to_datetime(start_date) < data5.index[0]:\n",
    "        start_date = data5.index[0]\n",
    "    else:\n",
    "        start_date = start_date\n",
    "        \n",
    "    # put in end date caps\n",
    "    if pd.to_datetime(end_date) > data5.index[-1]:\n",
    "        end_date = data5.index[-1]\n",
    "    else:\n",
    "        end_date = end_date\n",
    "        \n",
    "    # filter dataframe on dates\n",
    "    data6 = data5.loc[start_date:end_date]\n",
    "\n",
    "    # calculate cumulative sums of compound sentiment over time\n",
    "    data6['Body_Cumulative_NSW'] = data6['Sentiment_Score_NSW'].cumsum()\n",
    "    data6['Body_Cumulative_QLD'] = data6['Sentiment_Score_QLD'].cumsum()\n",
    "    data6['Body_Cumulative_SA'] = data6['Sentiment_Score_SA'].cumsum()\n",
    "    data6['Body_Cumulative_TAS'] = data6['Sentiment_Score_TAS'].cumsum()\n",
    "    data6['Body_Cumulative_VIC'] = data6['Sentiment_Score_VIC'].cumsum()\n",
    "    data6['Body_Cumulative_WA'] = data6['Sentiment_Score_WA'].cumsum()\n",
    "    data6['Body_Cumulative_NT'] = data6['Sentiment_Score_NT'].cumsum()\n",
    "    data6['Body_Cumulative_ACT'] = data6['Sentiment_Score_ACT'].cumsum()\n",
    "\n",
    "    # missing value imputation at the state level for missing weeks\n",
    "    data6 = data6.fillna(method='ffill')\n",
    "    \n",
    "    # specify fig size and dpi\n",
    "    figure(figsize=(8, 5), dpi=100)\n",
    "\n",
    "    # make up some data\n",
    "    x = data6.index\n",
    "    y1 = data6['Body_Cumulative_NSW']\n",
    "    y2 = data6['Body_Cumulative_VIC']\n",
    "    y3 = data6['Body_Cumulative_QLD']\n",
    "    y4 = data6['Body_Cumulative_WA']\n",
    "    y5 = data6['Body_Cumulative_SA']\n",
    "    y6 = data6['Body_Cumulative_ACT']\n",
    "    y7 = data6['Body_Cumulative_TAS']\n",
    "    y8 = data6['Body_Cumulative_NT']\n",
    "\n",
    "    # plot\n",
    "    plt.plot(x, y1, linewidth = 2.5, color = '#ffae34', label = 'NSW')\n",
    "    plt.plot(x, y2, linewidth = 2.5, color = '#ef6e6a', label = 'VIC')\n",
    "    plt.plot(x, y3, linewidth = 2.5, color = '#6387b4', label = 'QLD')\n",
    "    plt.plot(x, y4, linewidth = 2.5, color = '#1fbda5', label = 'WA')\n",
    "    plt.plot(x, y5, linewidth = 2.5, color = '#c3bc3f', label = 'SA')\n",
    "    plt.plot(x, y6, linewidth = 2.5, color = '#d23d99', label = 'ACT')\n",
    "    plt.plot(x, y7, linewidth = 2.5, color = '#3dbed2', label = 'TAS')\n",
    "    plt.plot(x, y8, linewidth = 2.5, color = '#734314', label = 'NT')\n",
    "\n",
    "    # beautify the x-labels\n",
    "    plt.gcf().autofmt_xdate()\n",
    "\n",
    "    # set title\n",
    "    plt.title('Multinomial Naive Bayes Method', fontsize = 10)\n",
    "    plt.suptitle('Sentiment Score of Australian Property News Over Time', fontsize = 12)\n",
    "    \n",
    "    # control tick frequency\n",
    "    #plt.yticks(np.arange(0, 100, 20))\n",
    "\n",
    "    # change font size\n",
    "    plt.xlabel('Date', fontsize = 10)\n",
    "    plt.ylabel('Sentiment Score', fontsize = 10)\n",
    "    \n",
    "    # set legend\n",
    "    leg = plt.legend(loc=\"upper right\", bbox_to_anchor = (1.3, 1), title = 'States and Territories', frameon = False)\n",
    "    leg._legend_box.align = \"left\"\n",
    "    \n",
    "    # control tick frequency\n",
    "    #plt.yticks(np.arange(0, 100, 20))\n",
    "\n",
    "    # change font size\n",
    "    plt.xlabel('Date', fontsize = 10)\n",
    "    plt.ylabel('Sentiment Score', fontsize = 10)\n",
    "    \n",
    "    # show plot\n",
    "    plt.show()"
   ]
  },
  {
   "cell_type": "markdown",
   "id": "sustainable-delicious",
   "metadata": {},
   "source": [
    "Plot the sentiment score of Australian property news over time."
   ]
  },
  {
   "cell_type": "code",
   "execution_count": 37,
   "id": "delayed-welcome",
   "metadata": {},
   "outputs": [
    {
     "data": {
      "image/png": "[encoded data removed]",
      "text/plain": [
       "<Figure size 800x500 with 1 Axes>"
      ]
     },
     "metadata": {
      "needs_background": "light"
     },
     "output_type": "display_data"
    }
   ],
   "source": [
    "# call the function\n",
    "plot_cumulative_sum(data5, start_date, end_date)"
   ]
  }
 ],
 "metadata": {
  "kernelspec": {
   "display_name": "Python 3",
   "language": "python",
   "name": "python3"
  },
  "language_info": {
   "codemirror_mode": {
    "name": "ipython",
    "version": 3
   },
   "file_extension": ".py",
   "mimetype": "text/x-python",
   "name": "python",
   "nbconvert_exporter": "python",
   "pygments_lexer": "ipython3",
   "version": "3.6.8"
  },
  "toc": {
   "base_numbering": 1,
   "nav_menu": {},
   "number_sections": true,
   "sideBar": true,
   "skip_h1_title": false,
   "title_cell": "Table of Contents",
   "title_sidebar": "Contents",
   "toc_cell": false,
   "toc_position": {},
   "toc_section_display": true,
   "toc_window_display": false
  }
 },
 "nbformat": 4,
 "nbformat_minor": 5
}
