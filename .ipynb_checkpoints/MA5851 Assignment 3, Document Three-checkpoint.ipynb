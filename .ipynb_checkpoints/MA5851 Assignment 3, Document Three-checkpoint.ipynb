{
 "cells": [
  {
   "cell_type": "markdown",
   "id": "asian-shield",
   "metadata": {},
   "source": [
    "# Named Entity Recognition"
   ]
  },
  {
   "cell_type": "markdown",
   "id": "stable-terrorist",
   "metadata": {},
   "source": [
    "## Rational for Utilising Named Entity Recognition"
   ]
  },
  {
   "cell_type": "markdown",
   "id": "revised-lucas",
   "metadata": {},
   "source": [
    "As mentioned in Document Two, 541 out of 1,287 rows of extracted news data did not possess tags listing which states or territories those articles discussed. This was perceived as an issue since this data was necessary for estimating the relative strengths of the property markets across all states and territories in Australia. Hence, Named Entity Recognition (NER) was required to identify all place locations in the text corpus."
   ]
  },
  {
   "cell_type": "markdown",
   "id": "short-notification",
   "metadata": {},
   "source": [
    "## Named Entity Recognition Literature Review"
   ]
  },
  {
   "cell_type": "markdown",
   "id": "tribal-premiere",
   "metadata": {},
   "source": [
    "NER refers to the task of identifying key information, or entities, within a text corpus such as a location, person, organisation or time (Marshall, 2019). There exist several distinct approaches to NER which include: \\\n",
    "\n",
    "- **Rule-Based**: detects entities in a text corpus if they match a list of known entities and any other hand-crafted rules. The advantage of this approach is that it does not rely on any annotated data and can demonstrate good robustness and coverage of the obtained results (Chahira et al., 2017 & GeeksforGeeks, 2020). According to current literature however, this approach has been progressively abandoned due to the high time and manual work requirements, reduced learning capacity of the system and potential existence of overly complicated patterns in the data (Chahira et al., 2017; Li et al., 2020 & Thanaki, 2017). \\\n",
    "- **Unsupervised Learning**: uses a model previously trained through unsupervised tasks, such as masked language modelling and sentence prediction, to detect entities based on the term and the context of the sentence (Rajasekharan, 2020). The *Bidirectional Encoder Representations from Transformers* (*BERT*) model is an example of an unsupervised learning approach to NER (Horev, 2018). The advantages of the unsupervised learning approach is that it does not rely on a large amount of high-quality annotated data and can attain high accuracy on unseen data (Li et al., 2019). However, the disadvantage of this approach is that state-of-the-art model solutions that require fine-tuning can require high computational power (Hui, 2019). \\\n",
    "- **Feature-Based Supervised Learning**: this is the most common and leading approach in NER which uses training data and their features as the input to generate a trained shallow feedforward neural network model. *Spacy's* pre-trained NER model is an example of a simple, supervised classifier (Jack, 2019). This trained model can then be used to detect similar entities in new data. The advantage of this approach is that it can attain high accuracy on unseen data (Toral, 2015). However, the disadvantage of this approach is that it relies on a large amount of high-quality annotated data (Li et al., 2019). \\\n",
    "- **Deep-Learning**: uses multiple processing layers in a neural network to learn non-linear mappings between the input and the output via non-linear activation functions. The advantage of being able to learn complex and intricate features in this way is that the deep-learning model can remove the need for domain expertise and sophisticated feature extraction while still achieving high accuracy. That is, the model can accept raw data (Mahapatra, 2018; Maheshkar, 2020 & Vilariño, 2020). Again, the disadvantage of this approach is that it relies heavily on a large amount of high-quality annotated data and is computationally expensive to train (Vilariño, 2020).\n",
    "\n",
    "Some of the existing challenges faced during NER, and even sentiment analysis, involve the presence of slang words, new accents and grammatical and spelling mistakes (Devi, 2020). However, published news articles are typically quality checked for these items."
   ]
  },
  {
   "cell_type": "markdown",
   "id": "motivated-union",
   "metadata": {},
   "source": [
    "## Chosen Named Entity Recognition Method"
   ]
  },
  {
   "cell_type": "markdown",
   "id": "competitive-favorite",
   "metadata": {},
   "source": [
    "*Spacy's* pre-trained, english NER model, *en_core_web_sm*, was the selected NER model for detecting locations in the Australian news articles due to the absence of a list of all known location entities, lack of high-quality annotated data and because the location entities were deemed to be simple to identify in grammatically correct text. Furthermore, it was conceived that implementing a rule-based approach would not have been possible without this list of known location entities and that a deep-learning approach would have been excessive for this particular task. Moreover, the unsupervised learning approach was excluded as the *BERT* model would have required more than 16GB GPU memory, which exceeded the available resources of 8GB GPU memory (Hui, 2019). The following figure displays an example result of *Spacy's* NER model applied to a portion of the body text in an Australian news article.\n",
    "\\"
   ]
  },
  {
   "cell_type": "markdown",
   "id": "narrow-fraud",
   "metadata": {},
   "source": [
    "\\begin{figure}[H]\n",
    "    \\centering\n",
    "    \\includegraphics[height=5cm, width = 15cm]{NERexample}\n",
    "    \\caption{NER Example}\n",
    "    \\label{NER Example}\n",
    "\\end{figure}"
   ]
  },
  {
   "cell_type": "markdown",
   "id": "divided-algorithm",
   "metadata": {},
   "source": [
    "\\begin{center} Figure 1: NER Example \\end{center}\n",
    "\\"
   ]
  },
  {
   "cell_type": "markdown",
   "id": "vanilla-person",
   "metadata": {},
   "source": [
    "As can be seen from the above figure, *Spacy's* NER model identified different categories of key information within the body text corpus, however, the only entities of interest for this task consisted of the locations (LOCs) and geopolitical entities (GPEs). Consequently, the entities were later filtered to only include LOCs and GPEs.\n",
    "\n",
    "Additionally, it was rendered clear from the above figure that the entities identified were not always at the state and territory level (for example, Gold Coast was a city, not a state or territory). Hence, it was deemed necessary to employ the *Nominatim* geocoding software, from within Python, to compute the full addresses from these LOC and GPE tags and then return the associated states or territories, if applicable."
   ]
  },
  {
   "cell_type": "markdown",
   "id": "vulnerable-configuration",
   "metadata": {},
   "source": [
    "## Named Entity Recognition Performance Results"
   ]
  },
  {
   "cell_type": "markdown",
   "id": "broke-tokyo",
   "metadata": {},
   "source": [
    "In order to validate the NER method implemented, the predicted state or territory for each news article was compared with the true tag labels extracted from the *onthehouse* news article pages. Since not all of the articles contained tags, these records were removed from the comparison. Furthermore, only records predicted to include at least one of the states or territories in Australia were kept for this task. This comparison revealed that the implemented NER method possessed an accuracy of 73%. This accuracy was regarded as a good baseline to improve upon for future iterations of this NLP pipeline."
   ]
  },
  {
   "cell_type": "markdown",
   "id": "bridal-charity",
   "metadata": {},
   "source": [
    "\\pagebreak"
   ]
  },
  {
   "cell_type": "markdown",
   "id": "beautiful-error",
   "metadata": {},
   "source": [
    "# Sentiment Analysis"
   ]
  },
  {
   "cell_type": "markdown",
   "id": "loaded-worship",
   "metadata": {},
   "source": [
    "## Rational for Utilising Sentiment Analysis"
   ]
  },
  {
   "cell_type": "markdown",
   "id": "amber-worthy",
   "metadata": {},
   "source": [
    "Polarity-based sentiment analysis was incorporated into the NLP pipeline in order to gain the necessary insights into the relative strengths of housing across all states and territories in Australia. Valence-based sentiment analysis was not actively pursued as this would have posed challenges in trialling machine learning-based approaches (Artiles, 2017)."
   ]
  },
  {
   "cell_type": "markdown",
   "id": "negative-spare",
   "metadata": {},
   "source": [
    "## Sentiment Analysis Literature Review"
   ]
  },
  {
   "cell_type": "markdown",
   "id": "dirty-slovak",
   "metadata": {},
   "source": [
    "Sentiment analysis has been used in literature to gauge the attitude of the writer towards a particular subject. This traditionally has involved predicting whether the text positively, neutrally or negatively reflects the subject (Devi, 2020). The two main approaches towards sentiment analysis consist of: \\\n",
    "\n",
    "- **Lexicon-Based**: which assumes that each word in the text corpus possess an emotion and that the quantification of these emotions would be indicative of the writer's attitude towards the subject. A popular example of a lexicon-based approach includes the Valence Aware Dictionary and sEntiment Reasoner (VADER) (Artiles, 2017). The advantage of this approach is that labelled data and the procedure of training a classifier is not required. However, this approach can suffer from a recall and overall accuracy perspective (Isabelle et al., 2018). \\\n",
    "- **Machine Learning (ML) Algorithms**: involves using a trained classifier to predict whether the text corpus positively, neutrally or negatively reflects the subject (Pajupuu, 2016). The Logistic Regression (LR) model, Support Vector Machine (SVM) model, Naive Bayes (NB) model, and even the BERT model, are traditional examples of machine learning algorithms employed for sentiment analysis tasks (Molla, 2018 & Pajupuu, 2016). The key advantage of this approach is that it has demonstrated high accuracy in literature over the lexicon-based approach in a number of cases. However, its disadvantage involves its reliance on good feature extraction, large amount of high-quality annotated data and reduced performance in other domain applications (Devika et al., 2016)."
   ]
  },
  {
   "cell_type": "markdown",
   "id": "labeled-moment",
   "metadata": {},
   "source": [
    "## Chosen Sentiment Analysis Method"
   ]
  },
  {
   "cell_type": "markdown",
   "id": "passing-technician",
   "metadata": {},
   "source": [
    "Both lexicon-based and machine learning-based approaches were trialled before deciding on the best performing model to use in production. This included trialling the VADER model; a weighted, multinomial LR model; a weighted, multiclass SVM model and a multinomial NB model. In order to support multi-class classification for the LR and SVM models, the *One-vs-Rest* (*OvR*) strategy was used to generate one binary classification problem per class. The BERT model was excluded due to the previously mentioned resource limitations.\n",
    "\n",
    "To prepare for these trials, the text corpuses needed to be further processed. This was because it was deemed highly likely that multiple states and territories would be mentioned in any given news article which could also mean multiple, differing sentiments. Hence, it was important to be able to individually identify only the relevant sentences containing each state or territory. This involved exploding the DataFrame using the NER place tags collected earlier, filtering on the single sentences from each article that contained the identified LOC or GPE entity and then collecting the previous 110 sentence characters and the subsequent 110 sentence characters for additional context during the sentiment analysis. This produced 3,896 records in the DataFrame indexed by either a state or territory.\n",
    "\n",
    "Additionally, the text corpuses needed to be cleaned. This involved: \\\n",
    "\n",
    "- **Removing excess white spaces**: which served as unwanted noise. \\\n",
    "- **Converting to lowercase**: so that identical words with casing differences could be treated the same. \\\n",
    "- **Removing numbers**: since this was difficult to contextualise. \\\n",
    "- **Removing stopwords**: to provide more focus on the important features in the text. \\\n",
    "- **Lemmatisation**: to reduce inflectional forms and derivationally related forms. Lemmatisation was chosen over stemming as the root form would still be a word recognised by the VADER model (Heidenreich, 2018).\n",
    "\n",
    "Moreover, a portion of the data needed to be labelled, as either positive, neutral or negative, in order to train the ML models and to convert the VADER compound scores into these discrete classes for comparison purposes. Due to time constraints, only 500 records could be labelled. With a 90/10 split, this left 450 records for training the ML models and 50 for testing. After labelling, it was observed that the dataset was slightly imbalanced. This is shown in the figure below. To account for the slightly imbalanced dataset, the 'balanced' hyperparameter setting was used across the ML models to adjust the weights inversely to the class frequencies (Scikit Learn, 2021). \\"
   ]
  },
  {
   "cell_type": "markdown",
   "id": "stupid-domestic",
   "metadata": {},
   "source": [
    "\\begin{figure}[H]\n",
    "    \\centering\n",
    "    \\includegraphics{ImbalancedDataset}\n",
    "    \\caption{ImbalancedDataset}\n",
    "    \\label{ImbalancedDataset}\n",
    "\\end{figure}"
   ]
  },
  {
   "cell_type": "markdown",
   "id": "reported-lebanon",
   "metadata": {},
   "source": [
    "\\begin{center} Figure 2: Imbalance in Annotated Dataset \\end{center} \n",
    "\\"
   ]
  },
  {
   "cell_type": "markdown",
   "id": "treated-curtis",
   "metadata": {},
   "source": [
    "To convert the VADER compound scores into discrete classes, the scores were compared with the manual labels and the best possible thresholds were decided based on class separability. As shown in the figure below, class separability was poor, however, the threshold for positive was any score greater than 0; the threshold for negative was any score less than -0.1 and neutral was assigned to any scores in between these two thresholds. \n",
    "\\"
   ]
  },
  {
   "cell_type": "markdown",
   "id": "drawn-handle",
   "metadata": {},
   "source": [
    "\\begin{figure}[H]\n",
    "    \\centering\n",
    "    \\includegraphics{VADERscores}\n",
    "    \\caption{VADERscores}\n",
    "    \\label{VADERscores}\n",
    "\\end{figure}"
   ]
  },
  {
   "cell_type": "markdown",
   "id": "atlantic-hygiene",
   "metadata": {},
   "source": [
    "\\begin{center} Figure 3: VADER Compound Scores by Manual Label \\end{center}\n",
    "\\"
   ]
  },
  {
   "cell_type": "markdown",
   "id": "stuck-things",
   "metadata": {},
   "source": [
    "In order to train and make predictions using the ML models, feature extraction using Term Frequency-Inverse Document Frequency (TF-IDF) was used to convert the training and test data into normalised term frequency arrays. This normalised term frequency array, as opposed to a regular frequency array using Bag of Words (BoW), was specifically required for the LR and SVM models.\n",
    "\n",
    "To optimise the hyperparameters and to avoid overfitting the ML models during training, *GridsearchCV* with a *Stratified K-Fold* strategy was implemented. This decision to use cross-validation over the use of a validation set meant that the small training set would not be reduced even further (Stack Exchange, 2019). Regularisation of the LR model was achieved using the L2 penalty as this was the only option supported for the 'multinomial' setting (Scikit Learn, 2021). Additionally, low 'C' parameters for the SVM model were investigated in order to soften the SVM margin and reduce overfitting (Scikit Learn, 2021). Moreover, a high 'alpha' setting was investigated for the NB model to reduce overfitting as well (Tadagoppula, 2020).\n",
    "\n",
    "The multinomial NB model was found to be the best performing model. Thus, this model was saved with *pickle* for use in production. Further details on the model performances are included in the subsequent subsection.\n",
    "\n",
    "The predictions from the sentiment analysis classifier were then used as scoring weights to the frequency of published news articles per state or territory. These scores were then plotted as a function of time to gain the necessary insights into the relative strengths of housing across all states and territories in Australia. This end deliverable is further detailed in Section 3."
   ]
  },
  {
   "cell_type": "markdown",
   "id": "offshore-premiere",
   "metadata": {},
   "source": [
    "## Sentiment Analysis Performance Results"
   ]
  },
  {
   "cell_type": "markdown",
   "id": "welcome-reason",
   "metadata": {},
   "source": [
    "To assess the model performances, the precision, recall and macro F1-scores were analysed. As can be seen from the tables below, the LR model possessed the highest accuracy of 68%, followed by the NB model at 64%, the SVM model at 62% and the VADER model at 46%. The macro average F1-score was used for comparison instead of the accuracy as the dataset was slightly imbalanced.\n",
    "\\"
   ]
  },
  {
   "cell_type": "markdown",
   "id": "rapid-poland",
   "metadata": {},
   "source": [
    "\\begin{figure}[H]\n",
    "    \\centering\n",
    "    \\includegraphics{ClassificationReports}\n",
    "    \\caption{ClassificationReports}\n",
    "    \\label{ClassificationReports}\n",
    "\\end{figure}"
   ]
  },
  {
   "cell_type": "markdown",
   "id": "familiar-divorce",
   "metadata": {},
   "source": [
    "\\begin{center} Figure 4: Classification Reports for Sentiment Analysis \\end{center}\n",
    "\\"
   ]
  },
  {
   "cell_type": "markdown",
   "id": "catholic-triangle",
   "metadata": {},
   "source": [
    "While the LR model was found to have the highest macro F1-score, it was excluded from selection because it displayed evidence of overfitting when comparing the k-fold macro F1-scores between the train and test data. That is, the macro F1-score in the training data was significantly higher than the macro F1-score in the test data. \n",
    "\\"
   ]
  },
  {
   "cell_type": "markdown",
   "id": "recent-yellow",
   "metadata": {},
   "source": [
    "\\begin{figure}[H]\n",
    "    \\centering\n",
    "    \\includegraphics[height=10cm, width = 6cm]{GridSearchCVResults}\n",
    "    \\caption{GridSearchCVResults}\n",
    "    \\label{GridSearchCVResults}\n",
    "\\end{figure}"
   ]
  },
  {
   "cell_type": "markdown",
   "id": "romantic-plaintiff",
   "metadata": {},
   "source": [
    "\\begin{center} Figure 5: Evidence of Overfitting \\end{center}\n",
    "\\"
   ]
  },
  {
   "cell_type": "markdown",
   "id": "passing-brighton",
   "metadata": {},
   "source": [
    "Consequently, the multinomial NB model was selected for use in production as it was the next most accurate model and did not show evidence of overfitting. The model's accuracy of 64% was also regarded as a good baseline to improve upon for future iterations of this NLP pipeline."
   ]
  },
  {
   "cell_type": "markdown",
   "id": "laughing-cleaners",
   "metadata": {},
   "source": [
    "\\pagebreak"
   ]
  },
  {
   "cell_type": "markdown",
   "id": "premium-queens",
   "metadata": {},
   "source": [
    "# High-Level Assessment of Results and Output"
   ]
  },
  {
   "cell_type": "markdown",
   "id": "moral-integral",
   "metadata": {},
   "source": [
    "As can be seen from the figure below, the proposed NLP pipeline successfully provided an estimate of the relative strengths of the property market across all states and territories in Australia, as a function of time. The figure revealed that at the start of 2021, Victoria was the strongest property market in Australia, followed by NSW, QLD, ACT, WA, TAS, SA and then NT. Since the NLP task accuracies were not 100%, these sentiment scores require frequent checks and readjustments, using a separate and reliable source, to avoid errors from compounding over time.\n",
    "\\"
   ]
  },
  {
   "cell_type": "markdown",
   "id": "final-inspiration",
   "metadata": {},
   "source": [
    "\\begin{figure}[H]\n",
    "    \\centering\n",
    "    \\includegraphics[height=10cm, width = 15cm]{Result}\n",
    "    \\caption{Result}\n",
    "    \\label{Result}\n",
    "\\end{figure}"
   ]
  },
  {
   "cell_type": "markdown",
   "id": "cooked-communications",
   "metadata": {},
   "source": [
    "\\begin{center} Figure 6: End Deliverable \\end{center}\n",
    "\\"
   ]
  },
  {
   "cell_type": "markdown",
   "id": "figured-focus",
   "metadata": {},
   "source": [
    "\\pagebreak"
   ]
  },
  {
   "cell_type": "markdown",
   "id": "compatible-belize",
   "metadata": {},
   "source": [
    "# Natural Language Processing Pipeline Code"
   ]
  },
  {
   "cell_type": "markdown",
   "id": "pending-lesbian",
   "metadata": {},
   "source": [
    "## Named Entity Recognition Model"
   ]
  },
  {
   "cell_type": "markdown",
   "id": "narrow-employee",
   "metadata": {},
   "source": [
    "### Identify Places"
   ]
  },
  {
   "cell_type": "code",
   "execution_count": 22,
   "id": "through-remedy",
   "metadata": {},
   "outputs": [],
   "source": [
    "# import packages\n",
    "import warnings # suppress warnings\n",
    "warnings.filterwarnings('ignore') # suppress warnings\n",
    "import pandas as pd # for creating dataframes\n",
    "pd.options.mode.chained_assignment = None  # to suppress SettingWithCopyWarning\n",
    "from datetime import datetime # for getting current date\n",
    "import matplotlib.pyplot as plt # for plotting\n",
    "from matplotlib.pyplot import figure # for plotting\n",
    "import spacy # for NER\n",
    "from spacy import displacy # for displaying NER results\n",
    "\n",
    "# loading trained, enlighs NER model\n",
    "nlp = spacy.load('en_core_web_sm') "
   ]
  },
  {
   "cell_type": "code",
   "execution_count": 23,
   "id": "smart-values",
   "metadata": {},
   "outputs": [],
   "source": [
    "# import packages\n",
    "import warnings # suppress warnings\n",
    "warnings.filterwarnings('ignore') # suppress warnings\n",
    "import pandas as pd # for creating dataframes\n",
    "import re # use regex to perform acquisition of selective sentence\n",
    "\n",
    "# loading trained NER model\n",
    "nlp = spacy.load('en_core_web_sm') \n",
    "\n",
    "# read in csv saved previously\n",
    "data2 = pd.read_csv(r'C:/Users/Imran/Desktop/Assignment_3_Repo/data2.csv')\n",
    "\n",
    "# define function for extracting geographical entities (GPE) and locations (LOC) using NER\n",
    "def get_place_list(x):\n",
    "    # apply nlp to news article\n",
    "    article = nlp(x)\n",
    "    # extract GPE entities from article\n",
    "    place_list = [(X.text) for X in article.ents if (X.label_ == 'GPE') or (X.label_ == 'LOC')]\n",
    "    # sort alphabetically and de-duplicate GPE list\n",
    "    place_list = sorted(list(set(place_list)))\n",
    "    return place_list\n",
    "# apply function\n",
    "data2['Place'] = data2['Body_Transformed'].apply(get_place_list)\n",
    "\n",
    "# duplicate article for each GPE identified so sentimenet can be calculated per GPE\n",
    "data2 = data2.explode('Place').reset_index(drop = True)\n",
    "\n",
    "# select relevant sentences for each place\n",
    "def get_sentences(place, text):\n",
    "    # extract only the sentences containing the places\n",
    "    sentences = re.split(r'(?<!\\w\\.\\w.)(?<![A-Z][a-z]\\.)(?<=\\.|\\?)\\s', text)\n",
    "    sentences_list = [word for word in sentences if str(place) in word]\n",
    "    # use list comprehension convert list to string\n",
    "    #sentences_string = ' '.join([str(elem) for elem in sentences_list])\n",
    "    #return sentences_string\n",
    "    return sentences_list\n",
    "data2['Relevant_Body'] = data2.apply(lambda x: get_sentences(x['Place'], x['Body_Transformed']), axis=1)\n",
    "\n",
    "# duplicate article for each GPE identified so sentimenet can be calculated per GPE\n",
    "data2 = data2.explode('Relevant_Body').reset_index(drop = True)"
   ]
  },
  {
   "cell_type": "markdown",
   "id": "beginning-address",
   "metadata": {},
   "source": [
    "### Get Additional Context for Sentences Containing Place Tags"
   ]
  },
  {
   "cell_type": "code",
   "execution_count": 24,
   "id": "foreign-premium",
   "metadata": {},
   "outputs": [],
   "source": [
    "# define function for extracting geographical entities (GPE) and locations (LOC) using NER\n",
    "def get_additional_context(text, sentence):\n",
    "    index = text.find(str(sentence))\n",
    "    if index < 0:\n",
    "        string = sentence\n",
    "    else:\n",
    "        start = index - 110\n",
    "        end = index + len(str(sentence)) + 110\n",
    "        if start <= 0:\n",
    "            start = 0\n",
    "            string = text[start:end]\n",
    "            end_new = string.rfind(\" \")\n",
    "            string = string[start:end_new]\n",
    "        else:\n",
    "            start = start\n",
    "            string = text[start:end]\n",
    "            start_new = string.find(\" \")\n",
    "            end_new = string.rfind(\" \")\n",
    "            string = string[start_new:end_new]\n",
    "    return string\n",
    "# apply function\n",
    "data2['Relevant_Body2'] = data2.apply(lambda x: get_additional_context(x['Body_Transformed'], x['Relevant_Body']), axis=1)\n",
    "\n",
    "#example_text = data2['Body_Transformed'].iloc[102]\n",
    "#displacy.render(nlp(example_text), jupyter=True, style='ent')"
   ]
  },
  {
   "cell_type": "markdown",
   "id": "other-table",
   "metadata": {},
   "source": [
    "### Use Nominatim Software to get Full Address from Place Tags"
   ]
  },
  {
   "cell_type": "code",
   "execution_count": 25,
   "id": "laden-senator",
   "metadata": {},
   "outputs": [],
   "source": [
    "# import packages\n",
    "import time # for implementing time delays\n",
    "from geopy.geocoders import Nominatim # for open-source geoencoding\n",
    "\n",
    "# get unique values of geographical entities as repeated queries using Nominatim is not allowed per the usage policy\n",
    "data2_unique = data2[['Place']].drop_duplicates(keep = 'first')\n",
    "# specify user agent as per usage policy\n",
    "geolocator = Nominatim(user_agent=\"geoapiExercises\")\n",
    "\n",
    "# define function to get the full address of Geographical Entity\n",
    "def get_full_address(x):\n",
    "    location = geolocator.geocode(x)\n",
    "    # limit requests to 1 every 1 second as per usage policy\n",
    "    time.sleep(1)\n",
    "    try:\n",
    "        address = location.address\n",
    "    except:\n",
    "        address = 'None'\n",
    "    return address\n",
    "# the line below is commented out to prevent running Nominatim for previously obtained locations as per usage policy\n",
    "#data2_unique['Full_Address'] = data2_unique['Place'].apply(get_full_address)\n",
    "\n",
    "# save addresses to csv (serves to cache the results so as to not repeat queries as per usage policy of Nominatim)\n",
    "#data2_unique.to_csv(r'C:/Users/Imran/Desktop/Assignment_3_Repo/standardised_addresses.csv', index = False)"
   ]
  },
  {
   "cell_type": "markdown",
   "id": "respected-cigarette",
   "metadata": {},
   "source": [
    "### Roll-Up the Full Address to the State and Territory Level"
   ]
  },
  {
   "cell_type": "code",
   "execution_count": 26,
   "id": "informal-surfing",
   "metadata": {},
   "outputs": [],
   "source": [
    "# read in csv saved previously\n",
    "standardised_addresses = pd.read_csv(r'C:/Users/Imran/Desktop/Assignment_3_Repo/standardised_addresses.csv')\n",
    "\n",
    "# merge full address to dataframe by the place variable\n",
    "data3 = data2.merge(standardised_addresses, on = 'Place', how = 'left')\n",
    "\n",
    "# identify state\n",
    "def get_Key_Place(x):\n",
    "    if ('Australia' in str(x)) and ('New South Wales' in str(x)):\n",
    "        Key_Place = 'NSW'\n",
    "    elif ('Australia' in str(x)) and ('Queensland' in str(x)):\n",
    "        Key_Place = 'QLD'\n",
    "    elif ('Australia' in str(x)) and ('South Australia' in str(x)):\n",
    "        Key_Place = 'SA'\n",
    "    elif ('Australia' in str(x)) and ('Tasmania' in str(x)):\n",
    "        Key_Place = 'TAS'\n",
    "    elif ('Australia' in str(x)) and ('Victoria' in str(x)):\n",
    "        Key_Place = 'VIC'\n",
    "    elif ('Australia' in str(x)) and ('Western Australia' in str(x)):\n",
    "        Key_Place = 'WA'\n",
    "    elif ('Australia' in str(x)) and ('Northern Territory' in str(x)):\n",
    "        Key_Place = 'NT'\n",
    "    elif ('Australia' in str(x)) and ('Australian Capital Territory' in str(x)):\n",
    "        Key_Place = 'ACT'\n",
    "    elif ('Australia' in str(x)):\n",
    "        Key_Place = 'National'\n",
    "    else:\n",
    "        Key_Place = \"Overseas\"\n",
    "    return Key_Place\n",
    "data3['Place_Tag'] = data3['Full_Address'].apply(get_Key_Place)"
   ]
  },
  {
   "cell_type": "markdown",
   "id": "collective-incidence",
   "metadata": {},
   "source": [
    "### Assess Place Model Accuracy"
   ]
  },
  {
   "cell_type": "code",
   "execution_count": 27,
   "id": "finite-atlantic",
   "metadata": {},
   "outputs": [
    {
     "name": "stdout",
     "output_type": "stream",
     "text": [
      "Place Model Accuracy: 73%\n"
     ]
    }
   ],
   "source": [
    "def place_matched(Place_Tag, Tags_Transformed):\n",
    "    if str(Tags_Transformed).find(str(Place_Tag)) >=0:\n",
    "        return 'Matched'\n",
    "    else:\n",
    "        return 'No Match'\n",
    "\n",
    "# apply function\n",
    "data3['Place_Matched'] = data3.apply(lambda x: place_matched(x['Place_Tag'], x['Tags_Transformed']), axis=1)\n",
    "\n",
    "# subset to only include labelled records\n",
    "place_labelled = data3[data3['Tags_Transformed'].notna()]\n",
    "\n",
    "# subset records to only include places which have been indexed by a state or territory\n",
    "place_labelled = place_labelled[(place_labelled['Place_Tag'] != 'Overseas') & (place_labelled['Place_Tag'] != 'National')]\n",
    "\n",
    "# compute accuracy\n",
    "total = len(place_labelled)\n",
    "matched = len(place_labelled[place_labelled['Place_Matched']=='Matched'])\n",
    "Accuracy = matched/total\n",
    "print(\"Place Model Accuracy:\", \"{0:.0%}\".format(Accuracy))"
   ]
  },
  {
   "cell_type": "markdown",
   "id": "aging-intent",
   "metadata": {},
   "source": [
    "## Sentiment Analysis"
   ]
  },
  {
   "cell_type": "markdown",
   "id": "headed-toronto",
   "metadata": {},
   "source": [
    "### Data Preprocessing Continued"
   ]
  },
  {
   "cell_type": "code",
   "execution_count": 28,
   "id": "centered-contrast",
   "metadata": {},
   "outputs": [],
   "source": [
    "# import packages\n",
    "import nltk # import nltk for sentiment analysis\n",
    "from nltk.stem import WordNetLemmatizer # for lemmatisation\n",
    "from nltk.tokenize import word_tokenize # tokenize words for removal of stopwords\n",
    "from nltk.tokenize.treebank import TreebankWordDetokenizer # detokenize text\n",
    "\n",
    "# remove excess white space\n",
    "data3['Body_Cleaned'] = data3['Relevant_Body2'].astype(str).apply(lambda x: ' '.join(x.split()))\n",
    "\n",
    "# convert to lowercase\n",
    "data3['Body_Cleaned'] = data3['Body_Cleaned'].str.lower()\n",
    "\n",
    "# remove punctuation\n",
    "data3['Body_Cleaned'] = data3['Body_Cleaned'].str.replace(r'[^\\w\\s]', '', regex = True)\n",
    "\n",
    "# remove stopwords\n",
    "stopwords = nltk.corpus.stopwords.words('english')\n",
    "def remove_stopwords(text):\n",
    "    word_tokens = word_tokenize(text)\n",
    "    filtered_tokenized_text = [word for word in word_tokens if word not in stopwords]\n",
    "    filtered_text = TreebankWordDetokenizer().detokenize(filtered_tokenized_text)\n",
    "    return filtered_text\n",
    "data3['Body_Cleaned'] = data3['Body_Cleaned'].apply(lambda x: remove_stopwords(x))\n",
    "\n",
    "# apply lemmatisation\n",
    "lemmatizer = WordNetLemmatizer()\n",
    "def apply_lemmatisation(text):\n",
    "    word_tokens = word_tokenize(text)\n",
    "    filtered_tokenized_text = [lemmatizer.lemmatize(w) for w in word_tokens]\n",
    "    filtered_text = TreebankWordDetokenizer().detokenize(filtered_tokenized_text)\n",
    "    return filtered_text\n",
    "data3['Body_Cleaned'] = data3['Body_Cleaned'].apply(lambda x: apply_lemmatisation(x))\n",
    "\n",
    "# remove numbers\n",
    "data3['Body_Cleaned'] = data3['Body_Cleaned'].str.replace(r'\\d+','', regex=True)"
   ]
  },
  {
   "cell_type": "markdown",
   "id": "small-chinese",
   "metadata": {},
   "source": [
    "### Label Sample Dataset"
   ]
  },
  {
   "cell_type": "code",
   "execution_count": 29,
   "id": "charged-buyer",
   "metadata": {
    "scrolled": false
   },
   "outputs": [
    {
     "data": {
      "image/png": "[encoded data removed]",
      "text/plain": [
       "<Figure size 720x504 with 1 Axes>"
      ]
     },
     "metadata": {},
     "output_type": "display_data"
    }
   ],
   "source": [
    "# import packages\n",
    "import matplotlib.pyplot as plt # for plotting\n",
    "from matplotlib.pyplot import figure # for plotting\n",
    "import numpy as np\n",
    "\n",
    "# save data to be labelled\n",
    "data3.to_csv(r'C:/Users/Imran/Desktop/Assignment_3_Repo/Unlabelled_Data.csv', index = True)\n",
    "\n",
    "# read in csv saved previously\n",
    "model_data  = pd.read_csv(r'C:/Users/Imran/Desktop/Assignment_3_Repo/Annotated_Data.csv')\n",
    "\n",
    "# plot pie chart of imbalanced dataset\n",
    "Positive = len(model_data[model_data['Label']==1])\n",
    "Negative = len(model_data[model_data['Label']==2])\n",
    "Neutral = len(model_data[model_data['Label']==0])\n",
    "Class = ['Positive', 'Negative', 'Neutral']\n",
    "Data = [Positive, Negative, Neutral]\n",
    "explode = (0.1, 0.0, 0.15)\n",
    "colors = (\"#ADD8E6\", \"#FF7F50\", '#AAFF32')\n",
    "wp = { 'linewidth' : 1, 'edgecolor' : \"black\" }\n",
    "def func(pct, allvalues):\n",
    "    absolute = int(pct / 100.*np.sum(allvalues))\n",
    "    return \"{:.1f}%\\n({:d} records)\".format(pct, absolute)\n",
    "fig, ax = plt.subplots(figsize =(10, 7))\n",
    "wedges, texts, autotexts = ax.pie(Data, \n",
    "                                  autopct = lambda pct: func(pct, Data),\n",
    "                                  explode = explode, \n",
    "                                  labels = Class,\n",
    "                                  shadow = True,\n",
    "                                  colors = colors,\n",
    "                                  startangle = 90,\n",
    "                                  wedgeprops = wp,\n",
    "                                  textprops = dict(color =\"black\"))\n",
    "ax.legend(wedges, Class,\n",
    "          title =\"Class\",\n",
    "          loc =\"center left\",\n",
    "          prop={\"size\":12},\n",
    "          bbox_to_anchor = (1, 0, 0.5, 1))\n",
    "  \n",
    "plt.setp(autotexts, size = 12, weight =\"bold\")\n",
    "ax.set_title(\"Class Frequency in Annotated Data\")\n",
    "plt.show()"
   ]
  },
  {
   "cell_type": "markdown",
   "id": "understanding-alliance",
   "metadata": {},
   "source": [
    "### Implementing a Valence Aware Dictionary and sEntiment Reasoner (VADER)"
   ]
  },
  {
   "cell_type": "markdown",
   "id": "defensive-russian",
   "metadata": {},
   "source": [
    "#### Acquiring Sentiment Scores"
   ]
  },
  {
   "cell_type": "code",
   "execution_count": 30,
   "id": "ordered-outline",
   "metadata": {},
   "outputs": [],
   "source": [
    "# import packages\n",
    "from nltk.sentiment.vader import SentimentIntensityAnalyzer # import nltk for sentiment analysis\n",
    "#nltk.download('vader_lexicon')\n",
    "\n",
    "# call the SentimenetIntensityAnalyser object\n",
    "analyser = SentimentIntensityAnalyzer()\n",
    "\n",
    "# define function to return compound sentiment scores\n",
    "def sentiment_analyzer_scores(sentence):\n",
    "    score = analyser.polarity_scores(sentence)['compound']\n",
    "    return score\n",
    "\n",
    "# get sentimenet for text\n",
    "model_data['Body_Sentiment'] = model_data['Body_Cleaned'].apply(sentiment_analyzer_scores)\n",
    "\n",
    "# subset dataframe to assess VADER accuracy\n",
    "model_data = model_data[['Body_Cleaned', 'Label', 'Body_Sentiment']]\n",
    "\n",
    "# subset to only include labelled records\n",
    "model_data = model_data[model_data['Label'].notna()]\n",
    "\n",
    "# data type conversion\n",
    "model_data['Label'] = model_data['Label'].astype(int)"
   ]
  },
  {
   "cell_type": "markdown",
   "id": "limited-cricket",
   "metadata": {},
   "source": [
    "#### Converting VADER Sentiment Scores to Discrete Classes"
   ]
  },
  {
   "cell_type": "code",
   "execution_count": 31,
   "id": "faced-ontario",
   "metadata": {
    "scrolled": false
   },
   "outputs": [
    {
     "data": {
      "image/png": "[encoded data removed]",
      "text/plain": [
       "<Figure size 720x720 with 4 Axes>"
      ]
     },
     "metadata": {},
     "output_type": "display_data"
    }
   ],
   "source": [
    "# define function to return compound sentiment scores\n",
    "def get_Class(Label):\n",
    "    if Label == 1:\n",
    "        return 'Positive'\n",
    "    if Label == 2:\n",
    "        return 'Negative'\n",
    "    else:\n",
    "        return 'Neutral'\n",
    "\n",
    "# get sentimenet for text\n",
    "model_data['Class'] = model_data['Label'].apply(get_Class)\n",
    "\n",
    "# set bins\n",
    "bins = 7\n",
    "\n",
    "# separate dataset into manual label classes\n",
    "b1 = model_data[model_data['Class'] == 'Positive']\n",
    "c1 = b1['Body_Sentiment']\n",
    "b2 = model_data[model_data['Class'] == 'Negative']\n",
    "c2 = b2['Body_Sentiment']\n",
    "b3 = model_data[model_data['Class'] == 'Neutral']\n",
    "c3 = b3['Body_Sentiment']\n",
    "\n",
    "# define subplots\n",
    "fig = plt.figure(figsize=(10,10))\n",
    "ax = fig.add_subplot(111) \n",
    "ax1 = fig.add_subplot(311)\n",
    "ax2 = fig.add_subplot(312)\n",
    "ax3 = fig.add_subplot(313)\n",
    "\n",
    "# Turn off axis lines and ticks of the big subplot\n",
    "ax.spines['top'].set_color('none')\n",
    "ax.spines['bottom'].set_color('none')\n",
    "ax.spines['left'].set_color('none')\n",
    "ax.spines['right'].set_color('none')\n",
    "ax.tick_params(labelcolor='w', top=False, bottom=False, left=False, right=False)\n",
    "\n",
    "# plot subplots\n",
    "ax1.hist(c1, bins = bins, color=\"blue\", alpha = 0.5, density = True)[0]\n",
    "ax2.hist(c2, bins = bins, color=\"red\", alpha = 0.5, density = True)[0]\n",
    "ax3.hist(c3, bins = bins, color=\"green\", alpha = 0.5, density = True)[0]\n",
    "\n",
    "# set x and y limits\n",
    "ax1.set_xlim(-1, 1)\n",
    "ax1.set_ylim(0, 2.5)\n",
    "ax2.set_xlim(-1, 1)\n",
    "ax2.set_ylim(0, 2.5)\n",
    "ax3.set_xlim(-1, 1)\n",
    "ax3.set_ylim(0, 2.5)\n",
    "\n",
    "# Set common labels\n",
    "ax.set_xlabel('VADER Sentiment')\n",
    "ax.set_ylabel('Density')\n",
    "ax1.set_title('Spread of VADER Sentiment by Manual Label')\n",
    "\n",
    "# Create the legend\n",
    "line_labels = [\"Positive\", \"Negative\", \"Neutral\"]\n",
    "fig.legend([ax1, ax2, ax3],\n",
    "           labels = line_labels,\n",
    "           loc=\"upper right\",\n",
    "           bbox_to_anchor = (1.08, 0.88),\n",
    "           title = \"Manual Label\",\n",
    "           frameon = False)\n",
    "\n",
    "# show plot\n",
    "plt.show()"
   ]
  },
  {
   "cell_type": "code",
   "execution_count": 32,
   "id": "enabling-group",
   "metadata": {},
   "outputs": [],
   "source": [
    "# get VADER label\n",
    "def get_VADER_label(i):\n",
    "    if float(i) > 0:\n",
    "        return 1\n",
    "    elif float(i) >= -0.1 and float(i) <=0:\n",
    "        return 0\n",
    "    else:\n",
    "        return 2\n",
    "\n",
    "# get label from VADER sentiment\n",
    "model_data['VADER Prediction'] = model_data['Body_Sentiment'].apply(get_VADER_label)\n",
    "\n",
    "# data type conversion\n",
    "model_data['VADER Prediction'] = model_data['VADER Prediction'].astype(int)"
   ]
  },
  {
   "cell_type": "markdown",
   "id": "conservative-heading",
   "metadata": {},
   "source": [
    "#### Assess the Precision and Recall of the VADER Model"
   ]
  },
  {
   "cell_type": "code",
   "execution_count": 33,
   "id": "deluxe-hunter",
   "metadata": {},
   "outputs": [
    {
     "name": "stdout",
     "output_type": "stream",
     "text": [
      "VADER\n",
      "              precision    recall  f1-score   support\n",
      "\n",
      "     Neutral       0.45      0.38      0.41        89\n",
      "    Positive       0.50      0.77      0.61       227\n",
      "    Negative       0.58      0.24      0.34       184\n",
      "\n",
      "    accuracy                           0.51       500\n",
      "   macro avg       0.51      0.47      0.46       500\n",
      "weighted avg       0.52      0.51      0.48       500\n",
      "\n"
     ]
    }
   ],
   "source": [
    "# import packages\n",
    "from sklearn.metrics import confusion_matrix, classification_report, accuracy_score, f1_score, mean_squared_error # for analysing classification results\n",
    "\n",
    "# assess results\n",
    "target_names = ['Neutral', 'Positive', 'Negative']\n",
    "print(\"VADER\")\n",
    "print(classification_report(model_data['Label'], model_data['VADER Prediction'], target_names = target_names))"
   ]
  },
  {
   "cell_type": "markdown",
   "id": "senior-meaning",
   "metadata": {},
   "source": [
    "### Preparing Data for Training New Models"
   ]
  },
  {
   "cell_type": "code",
   "execution_count": 34,
   "id": "informed-spanking",
   "metadata": {},
   "outputs": [],
   "source": [
    "# import packages\n",
    "from sklearn.feature_extraction.text import TfidfVectorizer # for generating TF-IDF matrix\n",
    "from sklearn.model_selection import train_test_split, GridSearchCV, StratifiedKFold, cross_val_score # for model assessment\n",
    "\n",
    "# split training and test data\n",
    "train, test = train_test_split(model_data[['Body_Cleaned', 'Label']], test_size = 0.1, stratify = model_data['Label'], random_state = 101)\n",
    "\n",
    "# Create feature vectors\n",
    "vectorizer = TfidfVectorizer(min_df = 5,\n",
    "                             max_df = 0.8,\n",
    "                             sublinear_tf = True,\n",
    "                             use_idf = True)\n",
    "train_vectors = vectorizer.fit_transform(train['Body_Cleaned'])\n",
    "test_vectors = vectorizer.transform(test['Body_Cleaned'])"
   ]
  },
  {
   "cell_type": "markdown",
   "id": "suspected-velvet",
   "metadata": {},
   "source": [
    "### Implementing a Weighted, Multinomial Logistic Regression Model"
   ]
  },
  {
   "cell_type": "markdown",
   "id": "viral-carbon",
   "metadata": {},
   "source": [
    "#### Logistic Regression Model Hyperparamter Tuning"
   ]
  },
  {
   "cell_type": "code",
   "execution_count": 35,
   "id": "noted-greene",
   "metadata": {},
   "outputs": [
    {
     "name": "stdout",
     "output_type": "stream",
     "text": [
      "LR Model\n",
      "K-Fold Split    Train         Test\n",
      "--------------  ------------  ------------\n",
      "1               97.1%         39.8%\n",
      "2               96.6%         66.7%\n",
      "3               96.7%         68.1%\n",
      "4               97.3%         70.4%\n",
      "5               97.0%         73.8%\n",
      "Mean ± Std Dev  96.9% ± 0.3%  64.4% ± 9.4%\n",
      "\n"
     ]
    }
   ],
   "source": [
    "# import packages\n",
    "from sklearn.linear_model import LogisticRegression # for logistic regression modelling\n",
    "import pickle # for saving and loading best model from hyperparameter tuning\n",
    "from tabulate import tabulate # for printing results in a tabular format\n",
    "\n",
    "# define estimator\n",
    "LR_estimator = LogisticRegression(multi_class = 'multinomial', \n",
    "                                  class_weight='balanced', \n",
    "                                  penalty = 'l2', \n",
    "                                  random_state = 101)\n",
    "\n",
    "# define range of parameters to optimise the estimator\n",
    "LR_parameters = {'solver': ['lbfgs', 'sag', 'saga', 'newton-cg'],\n",
    "                 'C': [0.001, 0.01, 0.1, 1, 10, 100]}\n",
    "\n",
    "# define function for optimising the estimator estimator\n",
    "def optimised_LR_model(estimator, parameters):\n",
    "    grid_search = GridSearchCV(estimator= estimator, \n",
    "                               param_grid = parameters, \n",
    "                               scoring = 'f1_macro',\n",
    "                               cv = 10,\n",
    "                               return_train_score = True,\n",
    "                               verbose=True)\n",
    "\n",
    "    grid_search.fit(train_vectors, train['Label'])\n",
    "\n",
    "    optimised_LR_model = grid_search.best_estimator_\n",
    "\n",
    "    pickle.dump(optimised_LR_model, open('optimised_LR_model.sav', 'wb'))\n",
    "    \n",
    "    # print results to check for overfitting\n",
    "    #print(\"params\", grid_search.cv_results_[\"params\"])\n",
    "    #print(\"best_estimator_\", optimised_LR_model)\n",
    "    \n",
    "    data = [\n",
    "    [\"1\", \n",
    "     str(round(grid_search.cv_results_[\"split1_train_score\"][-1]*100,1)) + \"%\", \n",
    "     str(round(grid_search.cv_results_[\"split1_test_score\"][-1]*100,1)) + '%'],\n",
    "    [\"2\", \n",
    "     str(round(grid_search.cv_results_[\"split2_train_score\"][-1]*100,1)) + \"%\", \n",
    "     str(round(grid_search.cv_results_[\"split2_test_score\"][-1]*100,1)) + '%'],\n",
    "    [\"3\", \n",
    "     str(round(grid_search.cv_results_[\"split3_train_score\"][-1]*100,1)) + \"%\", \n",
    "     str(round(grid_search.cv_results_[\"split3_test_score\"][-1]*100,1)) + '%'],\n",
    "    [\"4\", \n",
    "     str(round(grid_search.cv_results_[\"split4_train_score\"][-1]*100,1)) + \"%\", \n",
    "     str(round(grid_search.cv_results_[\"split4_test_score\"][-1]*100,1)) + '%'],\n",
    "    [\"5\", \n",
    "     str(round(grid_search.cv_results_[\"split5_train_score\"][-1]*100,1)) + \"%\", \n",
    "     str(round(grid_search.cv_results_[\"split5_test_score\"][-1]*100,1)) + '%'],\n",
    "    [\"Mean \\u00B1 Std Dev\", \n",
    "     str(round((grid_search.cv_results_[\"mean_train_score\"][-1])*100,1)) + \"% \\u00B1 \" \\\n",
    "     + str(round((grid_search.cv_results_[\"std_train_score\"][-1])*100,1)) + \"%\", \n",
    "     str(round((grid_search.cv_results_[\"mean_test_score\"][-1])*100,1)) + \"% \\u00B1 \" \\\n",
    "     + str(round((grid_search.cv_results_[\"std_test_score\"][-1])*100,1)) + \"%\"]] \n",
    "    #print(tabulate(data, headers=[\"Split\", \"Train\", \"Test\"]))\n",
    "    \n",
    "    with open(\"LR_output.txt\", \"a\") as LR_output:\n",
    "        print(tabulate(data, headers=[\"K-Fold Split\", \"Train\", \"Test\"]), file = LR_output)\n",
    "\n",
    "## run function\n",
    "#optimised_LR_model(LR_estimator, LR_parameters)\n",
    "LR_output = open(r'C:/Users/Imran/Desktop/Assignment_3_Repo/LR_output.txt', \"r\")\n",
    "print(\"LR Model\")\n",
    "print(LR_output.read())"
   ]
  },
  {
   "cell_type": "markdown",
   "id": "adapted-payment",
   "metadata": {},
   "source": [
    "#### Make Predictions using Logistic Regression Model"
   ]
  },
  {
   "cell_type": "code",
   "execution_count": 36,
   "id": "iraqi-luxembourg",
   "metadata": {},
   "outputs": [],
   "source": [
    "# load best estimator\n",
    "optimised_LR_model = pickle.load(open('optimised_LR_model.sav', 'rb'))\n",
    "\n",
    "# fit model for prediction making\n",
    "optimised_LR_model.fit(train_vectors, train['Label'])\n",
    "\n",
    "# make predictions\n",
    "LR_y_pred = optimised_LR_model.predict(test_vectors)"
   ]
  },
  {
   "cell_type": "markdown",
   "id": "amino-sharing",
   "metadata": {},
   "source": [
    "#### Assess the Precision and Recall of the Logistic Regression Model"
   ]
  },
  {
   "cell_type": "code",
   "execution_count": 37,
   "id": "working-statement",
   "metadata": {},
   "outputs": [
    {
     "name": "stdout",
     "output_type": "stream",
     "text": [
      "LR Model\n",
      "              precision    recall  f1-score   support\n",
      "\n",
      "     Neutral       0.56      0.56      0.56         9\n",
      "    Positive       0.67      0.78      0.72        23\n",
      "    Negative       0.86      0.67      0.75        18\n",
      "\n",
      "    accuracy                           0.70        50\n",
      "   macro avg       0.69      0.67      0.68        50\n",
      "weighted avg       0.72      0.70      0.70        50\n",
      "\n"
     ]
    }
   ],
   "source": [
    "# assess results\n",
    "target_names = ['Neutral', 'Positive', 'Negative']\n",
    "print(\"LR Model\")\n",
    "print(classification_report(test['Label'], LR_y_pred, target_names = target_names))"
   ]
  },
  {
   "cell_type": "markdown",
   "id": "treated-thought",
   "metadata": {},
   "source": [
    "### Implementing a Weighted, Multiclass Support Vector Machine Model"
   ]
  },
  {
   "cell_type": "markdown",
   "id": "documented-monkey",
   "metadata": {},
   "source": [
    "#### Support Vector Machine Model Hyperparamter Tuning"
   ]
  },
  {
   "cell_type": "code",
   "execution_count": 38,
   "id": "equal-winter",
   "metadata": {},
   "outputs": [
    {
     "name": "stdout",
     "output_type": "stream",
     "text": [
      "SVM Model\n",
      "K-Fold Split    Train         Test\n",
      "--------------  ------------  ------------\n",
      "1               64.7%         36.7%\n",
      "2               65.9%         68.3%\n",
      "3               63.0%         64.0%\n",
      "4               64.0%         47.8%\n",
      "5               63.7%         61.8%\n",
      "Mean ± Std Dev  64.9% ± 1.9%  54.6% ± 9.4%\n",
      "\n"
     ]
    }
   ],
   "source": [
    "# import packages\n",
    "from sklearn.multiclass import OneVsRestClassifier #for handling multiclass labels\n",
    "from sklearn.svm import SVC # for support vector machine modelling\n",
    "\n",
    "# define nested estimator\n",
    "SVM_estimator = OneVsRestClassifier(SVC(class_weight='balanced', random_state = 101))\n",
    "\n",
    "# define range of parameters to optimise the estimator\n",
    "SVM_parameters = {'estimator__kernel': ['poly', 'rbf', 'sigmoid'],\n",
    "                 'estimator__C': [0.1, 1, 1],\n",
    "                 'estimator__gamma': [0.001, 0.01, 0.1]}\n",
    "\n",
    "# define function for optimising the estimator estimator\n",
    "def optimised_SVM_model(estimator, parameters):\n",
    "    grid_search = GridSearchCV(estimator= estimator, \n",
    "                               param_grid = parameters, \n",
    "                               scoring = 'f1_macro',\n",
    "                               cv = 10,\n",
    "                               return_train_score = True,\n",
    "                               verbose=True)\n",
    "\n",
    "    grid_search.fit(train_vectors, train['Label'])\n",
    "\n",
    "    optimised_SVM_model = grid_search.best_estimator_\n",
    "\n",
    "    pickle.dump(optimised_SVM_model, open('optimised_SVM_model.sav', 'wb'))\n",
    "\n",
    "    # print results to check for overfitting\n",
    "    #print(\"params\", grid_search.cv_results_[\"params\"])\n",
    "    #print(\"best_estimator_\", optimised_SVM_model)\n",
    "    \n",
    "    data = [\n",
    "    [\"1\", \n",
    "     str(round(grid_search.cv_results_[\"split1_train_score\"][-1]*100,1)) + \"%\", \n",
    "     str(round(grid_search.cv_results_[\"split1_test_score\"][-1]*100,1)) + '%'],\n",
    "    [\"2\", \n",
    "     str(round(grid_search.cv_results_[\"split2_train_score\"][-1]*100,1)) + \"%\", \n",
    "     str(round(grid_search.cv_results_[\"split2_test_score\"][-1]*100,1)) + '%'],\n",
    "    [\"3\", \n",
    "     str(round(grid_search.cv_results_[\"split3_train_score\"][-1]*100,1)) + \"%\", \n",
    "     str(round(grid_search.cv_results_[\"split3_test_score\"][-1]*100,1)) + '%'],\n",
    "    [\"4\", \n",
    "     str(round(grid_search.cv_results_[\"split4_train_score\"][-1]*100,1)) + \"%\", \n",
    "     str(round(grid_search.cv_results_[\"split4_test_score\"][-1]*100,1)) + '%'],\n",
    "    [\"5\", \n",
    "     str(round(grid_search.cv_results_[\"split5_train_score\"][-1]*100,1)) + \"%\", \n",
    "     str(round(grid_search.cv_results_[\"split5_test_score\"][-1]*100,1)) + '%'],\n",
    "    [\"Mean \\u00B1 Std Dev\", \n",
    "     str(round((grid_search.cv_results_[\"mean_train_score\"][-1])*100,1)) + \"% \\u00B1 \" \\\n",
    "     + str(round((grid_search.cv_results_[\"std_train_score\"][-1])*100,1)) + \"%\", \n",
    "     str(round((grid_search.cv_results_[\"mean_test_score\"][-1])*100,1)) + \"% \\u00B1 \" \\\n",
    "     + str(round((grid_search.cv_results_[\"std_test_score\"][-1])*100,1)) + \"%\"]] \n",
    "    #print(tabulate(data, headers=[\"Split\", \"Train\", \"Test\"]))\n",
    "    \n",
    "    with open(\"SVM_output.txt\", \"a\") as SVM_output:\n",
    "        print(tabulate(data, headers=[\"K-Fold Split\", \"Train\", \"Test\"]), file = SVM_output)\n",
    "\n",
    "## run function\n",
    "#optimised_SVM_model(SVM_estimator, SVM_parameters)\n",
    "SVM_output = open(r'C:/Users/Imran/Desktop/Assignment_3_Repo/SVM_output.txt', \"r\")\n",
    "print(\"SVM Model\")\n",
    "print(SVM_output.read())"
   ]
  },
  {
   "cell_type": "markdown",
   "id": "applicable-bookmark",
   "metadata": {},
   "source": [
    "#### Make Predictions using Support Vector Machine Model"
   ]
  },
  {
   "cell_type": "code",
   "execution_count": 39,
   "id": "temporal-column",
   "metadata": {},
   "outputs": [],
   "source": [
    "# load best estimator\n",
    "optimised_SVM_model = pickle.load(open('optimised_SVM_model.sav', 'rb'))\n",
    "\n",
    "# fit model for prediction making\n",
    "optimised_SVM_model.fit(train_vectors, train['Label'])\n",
    "\n",
    "# make predictions\n",
    "SVM_y_pred = optimised_SVM_model.predict(test_vectors)"
   ]
  },
  {
   "cell_type": "markdown",
   "id": "gothic-dominican",
   "metadata": {},
   "source": [
    "#### Assess the Precision and Recall of the Support Vector Machine Model"
   ]
  },
  {
   "cell_type": "code",
   "execution_count": 40,
   "id": "gentle-professor",
   "metadata": {},
   "outputs": [
    {
     "name": "stdout",
     "output_type": "stream",
     "text": [
      "SVM Model\n",
      "              precision    recall  f1-score   support\n",
      "\n",
      "     Neutral       0.45      0.56      0.50         9\n",
      "    Positive       0.74      0.61      0.67        23\n",
      "    Negative       0.65      0.72      0.68        18\n",
      "\n",
      "    accuracy                           0.64        50\n",
      "   macro avg       0.61      0.63      0.62        50\n",
      "weighted avg       0.65      0.64      0.64        50\n",
      "\n"
     ]
    }
   ],
   "source": [
    "# assess results\n",
    "print(\"SVM Model\")\n",
    "print(classification_report(test['Label'], SVM_y_pred, target_names = target_names))"
   ]
  },
  {
   "cell_type": "markdown",
   "id": "disabled-river",
   "metadata": {},
   "source": [
    "### Implementing a Multinomial Naive Bayes Model"
   ]
  },
  {
   "cell_type": "markdown",
   "id": "coupled-april",
   "metadata": {},
   "source": [
    "#### Multinomial Naive Bayes Model Hyperparamter Tuning"
   ]
  },
  {
   "cell_type": "code",
   "execution_count": 41,
   "id": "described-diploma",
   "metadata": {},
   "outputs": [
    {
     "name": "stdout",
     "output_type": "stream",
     "text": [
      "NB Model\n",
      "K-Fold Split    Train         Test\n",
      "--------------  ------------  ------------\n",
      "1               63.1%         41.0%\n",
      "2               66.5%         71.7%\n",
      "3               63.8%         56.5%\n",
      "4               64.8%         49.1%\n",
      "5               64.4%         61.5%\n",
      "Mean ± Std Dev  64.7% ± 1.7%  54.0% ± 8.9%\n",
      "\n"
     ]
    }
   ],
   "source": [
    "# import packages\n",
    "from sklearn.naive_bayes import MultinomialNB # for multinomial naive bayes modelling\n",
    "\n",
    "# define nested estimator\n",
    "NB_estimator = OneVsRestClassifier(MultinomialNB())\n",
    "\n",
    "# define range of parameters to optimise the estimator\n",
    "NB_parameters = {'estimator__alpha': [0, 0.25, 0.5, 0.75, 1]}\n",
    "\n",
    "# define function for optimising the estimator estimator\n",
    "def optimised_NB_model(estimator, parameters):\n",
    "    grid_search = GridSearchCV(estimator= estimator, \n",
    "                               param_grid = parameters, \n",
    "                               scoring = 'f1_macro',\n",
    "                               cv = 10, \n",
    "                               return_train_score = True,\n",
    "                               verbose=True)\n",
    "\n",
    "    grid_search.fit(train_vectors, train['Label'])\n",
    "\n",
    "    optimised_NB_model = grid_search.best_estimator_\n",
    "\n",
    "    pickle.dump(optimised_NB_model, open('optimised_NB_model.sav', 'wb'))\n",
    "    \n",
    "    # print results to check for overfitting\n",
    "    #print(\"params\", grid_search.cv_results_[\"params\"])\n",
    "    #print(\"best_estimator_\", optimised_NB_model)\n",
    "    \n",
    "    data = [\n",
    "    [\"1\", \n",
    "     str(round(grid_search.cv_results_[\"split1_train_score\"][-1]*100,1)) + \"%\", \n",
    "     str(round(grid_search.cv_results_[\"split1_test_score\"][-1]*100,1)) + '%'],\n",
    "    [\"2\", \n",
    "     str(round(grid_search.cv_results_[\"split2_train_score\"][-1]*100,1)) + \"%\", \n",
    "     str(round(grid_search.cv_results_[\"split2_test_score\"][-1]*100,1)) + '%'],\n",
    "    [\"3\", \n",
    "     str(round(grid_search.cv_results_[\"split3_train_score\"][-1]*100,1)) + \"%\", \n",
    "     str(round(grid_search.cv_results_[\"split3_test_score\"][-1]*100,1)) + '%'],\n",
    "    [\"4\", \n",
    "     str(round(grid_search.cv_results_[\"split4_train_score\"][-1]*100,1)) + \"%\", \n",
    "     str(round(grid_search.cv_results_[\"split4_test_score\"][-1]*100,1)) + '%'],\n",
    "    [\"5\", \n",
    "     str(round(grid_search.cv_results_[\"split5_train_score\"][-1]*100,1)) + \"%\", \n",
    "     str(round(grid_search.cv_results_[\"split5_test_score\"][-1]*100,1)) + '%'],\n",
    "    [\"Mean \\u00B1 Std Dev\", \n",
    "     str(round((grid_search.cv_results_[\"mean_train_score\"][-1])*100,1)) + \"% \\u00B1 \" \\\n",
    "     + str(round((grid_search.cv_results_[\"std_train_score\"][-1])*100,1)) + \"%\", \n",
    "     str(round((grid_search.cv_results_[\"mean_test_score\"][-1])*100,1)) + \"% \\u00B1 \" \\\n",
    "     + str(round((grid_search.cv_results_[\"std_test_score\"][-1])*100,1)) + \"%\"]] \n",
    "    #print(tabulate(data, headers=[\"Split\", \"Train\", \"Test\"]))\n",
    "    \n",
    "    with open(\"NB_output.txt\", \"a\") as NB_output:\n",
    "        print(tabulate(data, headers=[\"K-Fold Split\", \"Train\", \"Test\"]), file = NB_output)\n",
    "\n",
    "## run function\n",
    "#optimised_NB_model(NB_estimator, NB_parameters)\n",
    "NB_output = open(r'C:/Users/Imran/Desktop/Assignment_3_Repo/NB_output.txt', \"r\")\n",
    "print(\"NB Model\")\n",
    "print(NB_output.read())"
   ]
  },
  {
   "cell_type": "markdown",
   "id": "substantial-soviet",
   "metadata": {},
   "source": [
    "#### Make Predictions using Multinomial Naive Bayes Model"
   ]
  },
  {
   "cell_type": "code",
   "execution_count": 42,
   "id": "attended-plymouth",
   "metadata": {},
   "outputs": [],
   "source": [
    "# load best estimator\n",
    "optimised_NB_model = pickle.load(open('optimised_NB_model.sav', 'rb'))\n",
    "\n",
    "# fit model for prediction making\n",
    "optimised_NB_model.fit(train_vectors, train['Label'])\n",
    "\n",
    "# make predictions\n",
    "NB_y_pred = optimised_NB_model.predict(test_vectors)"
   ]
  },
  {
   "cell_type": "markdown",
   "id": "simplified-making",
   "metadata": {},
   "source": [
    "#### Assess the Precision and Recall of the Multinomial Naive Bayes Model"
   ]
  },
  {
   "cell_type": "code",
   "execution_count": 43,
   "id": "bound-constraint",
   "metadata": {},
   "outputs": [
    {
     "name": "stdout",
     "output_type": "stream",
     "text": [
      "NB Model\n",
      "              precision    recall  f1-score   support\n",
      "\n",
      "     Neutral       1.00      0.44      0.62         9\n",
      "    Positive       0.61      0.87      0.71        23\n",
      "    Negative       0.69      0.50      0.58        18\n",
      "\n",
      "    accuracy                           0.66        50\n",
      "   macro avg       0.77      0.60      0.64        50\n",
      "weighted avg       0.71      0.66      0.65        50\n",
      "\n"
     ]
    }
   ],
   "source": [
    "# assess results\n",
    "print(\"NB Model\")\n",
    "print(classification_report(test['Label'], NB_y_pred, target_names = target_names))"
   ]
  },
  {
   "cell_type": "markdown",
   "id": "dynamic-dallas",
   "metadata": {},
   "source": [
    "## Analysis"
   ]
  },
  {
   "cell_type": "markdown",
   "id": "divine-rebate",
   "metadata": {},
   "source": [
    "### Data Processing"
   ]
  },
  {
   "cell_type": "code",
   "execution_count": 44,
   "id": "numerous-serial",
   "metadata": {},
   "outputs": [],
   "source": [
    "# create new dataframe\n",
    "data4 = data3\n",
    "\n",
    "# transform all records using previously fitted vectorizer\n",
    "data_vectors = vectorizer.transform(data4['Body_Cleaned'])\n",
    "\n",
    "# make predictions\n",
    "y_pred = optimised_NB_model.predict(data_vectors)\n",
    "\n",
    "# change to dataframe\n",
    "y_pred = pd.DataFrame(y_pred, columns = ['Pred'])\n",
    "\n",
    "# join predictions to dataframe\n",
    "data4 = pd.concat([data4, y_pred], axis=1)\n",
    "\n",
    "# define baseline count\n",
    "data4['Count'] = 1\n",
    "\n",
    "# weight counts by label\n",
    "def get_weights(i):\n",
    "    if str(i) == \"1\":\n",
    "        return 1\n",
    "    elif str(i) == \"2\":\n",
    "        return -1\n",
    "    else:\n",
    "        return 0\n",
    "data4['Weight'] = data4['Pred'].apply(get_weights)\n",
    "\n",
    "# calculate sentiment score from best model\n",
    "data4['Sentiment_Score'] = data4.Count * data4.Weight\n",
    "\n",
    "# make new dataset\n",
    "data5 = data4\n",
    "\n",
    "# convert the 'Date' column to datetime format\n",
    "data5['Date_Transformed'] = data5['Date_Transformed'].astype('datetime64[ns]')\n",
    "\n",
    "# subset columns of dataframe and the data into key places\n",
    "data5_NSW = data5[data5['Place_Tag'] == 'NSW'][['Date_Transformed', 'Sentiment_Score']]\n",
    "data5_QLD = data5[data5['Place_Tag'] == 'QLD'][['Date_Transformed', 'Sentiment_Score']]\n",
    "data5_SA = data5[data5['Place_Tag'] == 'SA'][['Date_Transformed', 'Sentiment_Score']]\n",
    "data5_TAS = data5[data5['Place_Tag'] == 'TAS'][['Date_Transformed', 'Sentiment_Score']]\n",
    "data5_VIC = data5[data5['Place_Tag'] == 'VIC'][['Date_Transformed', 'Sentiment_Score']]\n",
    "data5_WA = data5[data5['Place_Tag'] == 'WA'][['Date_Transformed', 'Sentiment_Score']]\n",
    "data5_NT = data5[data5['Place_Tag'] == 'NT'][['Date_Transformed', 'Sentiment_Score']]\n",
    "data5_ACT = data5[data5['Place_Tag'] == 'ACT'][['Date_Transformed', 'Sentiment_Score']]\n",
    "\n",
    "# group by date in a regular format\n",
    "data5_NSW = data5_NSW.resample('d', on='Date_Transformed')[['Sentiment_Score']].mean()\n",
    "data5_QLD = data5_QLD.resample('d', on='Date_Transformed')[['Sentiment_Score']].mean()\n",
    "data5_SA = data5_SA.resample('d', on='Date_Transformed')[['Sentiment_Score']].mean()\n",
    "data5_TAS = data5_TAS.resample('d', on='Date_Transformed')[['Sentiment_Score']].mean()\n",
    "data5_VIC = data5_VIC.resample('d', on='Date_Transformed')[['Sentiment_Score']].mean()\n",
    "data5_WA = data5_WA.resample('d', on='Date_Transformed')[['Sentiment_Score']].mean()\n",
    "data5_NT = data5_NT.resample('d', on='Date_Transformed')[['Sentiment_Score']].mean()\n",
    "data5_ACT = data5_ACT.resample('d', on='Date_Transformed')[['Sentiment_Score']].mean()\n",
    "\n",
    "# sort dataframe by date to compute cumulative compound sentiment scores over time\n",
    "data5_NSW = data5_NSW.sort_values(by = 'Date_Transformed', ascending = True)\n",
    "data5_QLD = data5_QLD.sort_values(by = 'Date_Transformed', ascending = True)\n",
    "data5_SA = data5_SA.sort_values(by = 'Date_Transformed', ascending = True)\n",
    "data5_TAS = data5_TAS.sort_values(by = 'Date_Transformed', ascending = True)\n",
    "data5_VIC = data5_VIC.sort_values(by = 'Date_Transformed', ascending = True)\n",
    "data5_WA = data5_WA.sort_values(by = 'Date_Transformed', ascending = True)\n",
    "data5_NT = data5_NT.sort_values(by = 'Date_Transformed', ascending = True)\n",
    "data5_ACT = data5_ACT.sort_values(by = 'Date_Transformed', ascending = True)\n",
    "\n",
    "# missing value imputation\n",
    "data5_NSW = data5_NSW.fillna(0.0)\n",
    "data5_QLD = data5_QLD.fillna(0.0)\n",
    "data5_SA = data5_SA.fillna(0.0)\n",
    "data5_TAS = data5_TAS.fillna(0.0)\n",
    "data5_VIC = data5_VIC.fillna(0.0)\n",
    "data5_WA = data5_WA.fillna(0.0)\n",
    "data5_NT = data5_NT.fillna(0.0)\n",
    "data5_ACT = data5_ACT.fillna(0.0)\n",
    "\n",
    "# merge dataframes together\n",
    "data5 = pd.concat([data5_NSW, data5_QLD, data5_SA, data5_TAS, data5_VIC, data5_WA, data5_NT, data5_ACT], axis = 1)\n",
    "\n",
    "# rename columns\n",
    "data5.columns = ['Sentiment_Score_NSW', 'Sentiment_Score_QLD', 'Sentiment_Score_SA', 'Sentiment_Score_TAS',\n",
    "                'Sentiment_Score_VIC', 'Sentiment_Score_WA', 'Sentiment_Score_NT', 'Sentiment_Score_ACT']\n",
    "\n",
    "# missing value imputation for body sentiment after merge for missing weeks\n",
    "data5 = data5.fillna(0.0)"
   ]
  },
  {
   "cell_type": "markdown",
   "id": "violent-wales",
   "metadata": {},
   "source": [
    "### Plot Cumulative Sums of Compound Sentiments over Time"
   ]
  },
  {
   "cell_type": "code",
   "execution_count": 45,
   "id": "operational-cutting",
   "metadata": {},
   "outputs": [
    {
     "data": {
      "image/png": "[encoded data removed]",
      "text/plain": [
       "<Figure size 800x500 with 1 Axes>"
      ]
     },
     "metadata": {
      "needs_background": "light"
     },
     "output_type": "display_data"
    }
   ],
   "source": [
    "# specify start date\n",
    "start_date = '2016-01-01'\n",
    "# specify end date\n",
    "end_date = '2021-12-01'\n",
    "\n",
    "# define function for calculating cumulative sums\n",
    "def plot_cumulative_sum(data5, start_date, end_date):\n",
    "    \n",
    "    # put in start date caps\n",
    "    if pd.to_datetime(start_date) < data5.index[0]:\n",
    "        start_date = data5.index[0]\n",
    "    else:\n",
    "        start_date = start_date\n",
    "        \n",
    "    # put in end date caps\n",
    "    if pd.to_datetime(end_date) > data5.index[-1]:\n",
    "        end_date = data5.index[-1]\n",
    "    else:\n",
    "        end_date = end_date\n",
    "        \n",
    "    # filter dataframe on dates\n",
    "    data6 = data5.loc[start_date:end_date]\n",
    "\n",
    "    # calculate cumulative sums of compound sentiment over time\n",
    "    data6['Body_Cumulative_NSW'] = data6['Sentiment_Score_NSW'].cumsum()\n",
    "    data6['Body_Cumulative_QLD'] = data6['Sentiment_Score_QLD'].cumsum()\n",
    "    data6['Body_Cumulative_SA'] = data6['Sentiment_Score_SA'].cumsum()\n",
    "    data6['Body_Cumulative_TAS'] = data6['Sentiment_Score_TAS'].cumsum()\n",
    "    data6['Body_Cumulative_VIC'] = data6['Sentiment_Score_VIC'].cumsum()\n",
    "    data6['Body_Cumulative_WA'] = data6['Sentiment_Score_WA'].cumsum()\n",
    "    data6['Body_Cumulative_NT'] = data6['Sentiment_Score_NT'].cumsum()\n",
    "    data6['Body_Cumulative_ACT'] = data6['Sentiment_Score_ACT'].cumsum()\n",
    "\n",
    "    # missing value imputation at the state level for missing weeks\n",
    "    data6 = data6.fillna(method='ffill')\n",
    "    \n",
    "    # specify fig size and dpi\n",
    "    figure(figsize=(8, 5), dpi=100)\n",
    "\n",
    "    # make up some data\n",
    "    x = data6.index\n",
    "    y1 = data6['Body_Cumulative_NSW']\n",
    "    y2 = data6['Body_Cumulative_VIC']\n",
    "    y3 = data6['Body_Cumulative_QLD']\n",
    "    y4 = data6['Body_Cumulative_WA']\n",
    "    y5 = data6['Body_Cumulative_SA']\n",
    "    y6 = data6['Body_Cumulative_ACT']\n",
    "    y7 = data6['Body_Cumulative_TAS']\n",
    "    y8 = data6['Body_Cumulative_NT']\n",
    "\n",
    "    # plot\n",
    "    plt.plot(x, y1, linewidth = 2.5, color = '#ffae34', label = 'NSW')\n",
    "    plt.plot(x, y2, linewidth = 2.5, color = '#ef6e6a', label = 'VIC')\n",
    "    plt.plot(x, y3, linewidth = 2.5, color = '#6387b4', label = 'QLD')\n",
    "    plt.plot(x, y4, linewidth = 2.5, color = '#1fbda5', label = 'WA')\n",
    "    plt.plot(x, y5, linewidth = 2.5, color = '#c3bc3f', label = 'SA')\n",
    "    plt.plot(x, y6, linewidth = 2.5, color = '#d23d99', label = 'ACT')\n",
    "    plt.plot(x, y7, linewidth = 2.5, color = '#3dbed2', label = 'TAS')\n",
    "    plt.plot(x, y8, linewidth = 2.5, color = '#734314', label = 'NT')\n",
    "\n",
    "    # beautify the x-labels\n",
    "    plt.gcf().autofmt_xdate()\n",
    "\n",
    "    # set title\n",
    "    Data_Date = data2['Data_Date'].iloc[0]\n",
    "    plt.title('Model: Multinomial Naive Bayes Method | Data Date: {}'.format(Data_Date), fontsize = 10)\n",
    "    plt.suptitle('Sentiment Score of Australian Property News Over Time', fontsize = 12)\n",
    "    \n",
    "    # control tick frequency\n",
    "    #plt.yticks(np.arange(0, 100, 20))\n",
    "\n",
    "    # change font size\n",
    "    plt.xlabel('Date', fontsize = 10)\n",
    "    plt.ylabel('Sentiment Score', fontsize = 10)\n",
    "    \n",
    "    # set legend\n",
    "    leg = plt.legend(loc=\"upper right\", bbox_to_anchor = (1.3, 1), title = 'States and Territories', frameon = False)\n",
    "    leg._legend_box.align = \"left\"\n",
    "    \n",
    "    # control tick frequency\n",
    "    #plt.yticks(np.arange(0, 100, 20))\n",
    "\n",
    "    # change font size\n",
    "    plt.xlabel('Date', fontsize = 10)\n",
    "    plt.ylabel('Sentiment Score', fontsize = 10)\n",
    "    \n",
    "    # show plot\n",
    "    plt.show()\n",
    "    \n",
    "# call the function\n",
    "plot_cumulative_sum(data5, start_date, end_date)"
   ]
  },
  {
   "cell_type": "markdown",
   "id": "social-imperial",
   "metadata": {},
   "source": [
    "\\pagebreak"
   ]
  },
  {
   "cell_type": "markdown",
   "id": "architectural-mystery",
   "metadata": {},
   "source": [
    "# References"
   ]
  },
  {
   "attachments": {},
   "cell_type": "markdown",
   "id": "parallel-insulin",
   "metadata": {},
   "source": [
    "Artiles, A. (2017). Using VADER to handle sentiment analysis with social media text. Retrieved from: https://tredactyl.io/blog/2017/04/using-vader-to-handle-sentiment-analysis-with-social-media-text.html\n",
    "\n",
    "\\\n",
    "\n",
    "Brownle, J. (2020). One-vs-Rest and One-vs-One for Multi-Class Classification. Retrieved from: https://machinelearningmastery.com/one-vs-rest-and-one-vs-one-for-multi-class-classification/\n",
    "\n",
    "\\\n",
    "\n",
    "Chahira, L., Anis, Z. & Mounir, Z. (2017). A Rule-based Named Entity Extraction Method and Syntactico-Semantic Annotation for Arabic Language. IARIA, 63-69.\n",
    "\n",
    "\\\n",
    "\n",
    "Devi, G. & Kamalakkannan, S. (2020). Literature Review on Sentiment Analysis in Social Media: Open Challenges toward Applications. International Journal of Advanced Science and Technology. *Volume* - 29, 1462-1471. \n",
    "\n",
    "\\\n",
    "\n",
    "Devika, M. & Ganesh, A. (2016). Sentiment Analysis: A Comparative Study On Different Approaches. Procedia Computer Science. *Volume* - 87, 44-49.\n",
    "\n",
    "\\\n",
    "\n",
    "GeeksforGeeks. (2020). Rule-Based Classifier – Machine Learning. Retrieved from: https://www.geeksforgeeks.org/rule-based- classifier-machine-learning/\n",
    "\n",
    "\\\n",
    "\n",
    "Heidenreich, H. (2018). Stemming? Lemmatization? What?. Retrieved from: https://towardsdatascience.com/stemming- lemmatization-what-ba782b7c0bd8\n",
    "\n",
    "\\\n",
    "\n",
    "Horev, R. (2018). BERT Explained: State of the art language model for NLP. Retrieved from: https://towardsdatascience.com/bert-explained-state-of-the-art-language-model-for-nlp-f8b21a9b6270\n",
    "\n",
    "\\\n",
    "\n",
    "Hui, J. (2019). How to scale the BERT Training with Nvidia GPUs? Retrieved from: https://medium.com/nvidia-ai/how-to-scale-the-bert-training-with-nvidia-gpus-c1575e8eaf71#:~:text=For%20most%20of%20the%20fine,and%20later%20combine%20the%20results\n",
    "\n",
    "\\\n",
    "\n",
    "Isabelle, G., Maharani, W. & Asror, I. (2018). Analysis on Opinion Mining Using Combining Lexicon-Based Method and Multinomial Naive Bayes. International Conference on Industrial Enterprise and System Engineering. *Volume* - 2, 1-6.\n",
    "\n",
    "\\\n",
    "\n",
    "Jack, M. (2019). NLP: Pretrained Named Entity Recognition (NER). Retrieved from: https://medium.com/@b.terryjack/nlp-pretrained-named-entity-recognition-7caa5cd28d7b\n",
    "\n",
    "\\\n",
    "\n",
    "Li, J., Sun, A., Han, J. & Li, C. (2020). A Survey on Deep Learning for Named Entity Recognition. IEEE Transactions on Knowledge and Data Engineering, 1-15.\n",
    "\n",
    "\\\n",
    "\n",
    "Li, M., Yang, Q., He, F., Li, Z., Zho, P., Zhao, L. & Chen, Z. (2019). An Unsupervised Learning Approach for NER Based on Online Encyclopedia. LNCS, *Volume* - 11641.\n",
    "\n",
    "\\\n",
    "\n",
    "Mahapatra, S. (2018). Why Deep Learning over Traditional Machine Learning?. Retrieved from: https://towardsdatascience.com/why-deep-learning-is-needed-over-traditional-machine-learning-1b6a99177063#:~:text=The%20biggest%20advantage%20Deep%20Learning,and%20hard%20core %20feature%20extraction\n",
    "\n",
    "\\\n",
    "\n",
    "Molla, M. (2018). Machine Learning: Sentiment analysis of movie reviews using Logistic Regression. Retrieved from: https://itnext.io/machine-learning-sentiment-analysis-of-movie-reviews-using-logisticregression-62e9622b4532\n",
    "\n",
    "\\\n",
    "\n",
    "Pajupuu, H., Altrov, R. & Pajupuu, J. (2016). Identifying Polarity in Different Text Types. Folklore (Estonia). *Volume* - 64, 125-142.\n",
    "\n",
    "\\\n",
    "\n",
    "Rajasekharan, A. (2020). Unsupervised NER using BERT. Retrieved from: https://towardsdatascience.com/unsupervised-ner-using-bert-2d7af5f90b8a\n",
    "\n",
    "\\\n",
    "\n",
    "Scikit Learn. (2021). sklearn.linear_model.LogisticRegression. Retrieved from: https://scikit-learn.org/stable/modules/generated/sklearn.linear_model.LogisticRegression.html\n",
    "\n",
    "\\\n",
    "\n",
    "Scikit Learn. (2021). sklearn.svm.SVC. Retrieved from: https://scikit- learn.org/stable/modules/generated/sklearn.svm.SVC.html\n",
    "\n",
    "\\\n",
    "\n",
    "Stack Exchange. (2019). How to evaluate whether model is overfitting or underfitting when using cross_val_score and GridSearchCV? Retrieved from: https://stats.stackexchange.com/questions/439485/how-to-evaluate-whether-model-is-overfitting-or-underfitting-when-using-cross-va\n",
    "\n",
    "\\\n",
    "\n",
    "Tadagoppula, S. (2020). Understanding Machine Learning Algorithms — Naive Bayes. Retrieved from: https://medium.com/analytics-vidhya/understanding-machine-learning-algorithms-naive-bayes-808ed649c1ec\n",
    "\n",
    "\\\n",
    "\n",
    "Thanaki, J. (2017). Python Natural Language Processing: Advanced machine learning and deep learning techniques for natural language processing. Packt.\n",
    "\n",
    "\\\n",
    "\n",
    "Toral, A. (2015). Machine Learning in Natural Language Processing. Retrieved from: https://citeseerx.ist.psu.edu/viewdoc/download?doi=10.1.1.696.9771&rep=rep1&type=pdf\n",
    "\n",
    "\\\n",
    "\n",
    "Vilariño, J. (2020). What’s New in Data Anonymization and NER? Retrieved from: https://www.acclaro.com/blog/whats-new-in-data-anonymization-and-ner/"
   ]
  },
  {
   "cell_type": "code",
   "execution_count": null,
   "id": "abstract-joyce",
   "metadata": {},
   "outputs": [],
   "source": []
  }
 ],
 "metadata": {
  "kernelspec": {
   "display_name": "Python 3",
   "language": "python",
   "name": "python3"
  },
  "language_info": {
   "codemirror_mode": {
    "name": "ipython",
    "version": 3
   },
   "file_extension": ".py",
   "mimetype": "text/x-python",
   "name": "python",
   "nbconvert_exporter": "python",
   "pygments_lexer": "ipython3",
   "version": "3.6.8"
  },
  "toc": {
   "base_numbering": 1,
   "nav_menu": {},
   "number_sections": true,
   "sideBar": true,
   "skip_h1_title": false,
   "title_cell": "Table of Contents",
   "title_sidebar": "Contents",
   "toc_cell": false,
   "toc_position": {
    "height": "calc(100% - 180px)",
    "left": "10px",
    "top": "150px",
    "width": "600.469px"
   },
   "toc_section_display": true,
   "toc_window_display": false
  }
 },
 "nbformat": 4,
 "nbformat_minor": 5
}
